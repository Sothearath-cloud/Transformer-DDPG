{
 "cells": [
  {
   "cell_type": "code",
   "execution_count": 1,
   "metadata": {},
   "outputs": [],
   "source": [
    "import math # cos() for Rastrigin\n",
    "import copy # array-copying convenience\n",
    "import sys # max float\n",
    "import numpy as np\n",
    "import sympy as sp\n",
    "from sympy.plotting import plot\n",
    "from sympy.plotting import plot3d\n",
    "import matplotlib.pyplot as plt\n",
    "import time\n",
    "import numpy as np\n",
    "import matplotlib.pyplot as plt\n",
    "from mpl_toolkits.mplot3d import Axes3D\n",
    "import torch\n",
    "import torch.nn as nn\n",
    "import torch.optim as optim\n",
    "from collections import deque\n",
    "import random\n",
    "from ddpg_agent import Agent\n",
    "import matplotlib.pyplot as plt\n",
    "from scipy.optimize import dual_annealing"
   ]
  },
  {
   "cell_type": "code",
   "execution_count": 2,
   "metadata": {},
   "outputs": [],
   "source": [
    "## parameter/ constant\n",
    "bandwidth = 1e6  # [hz]\n",
    "Speed_of_light = 3e8  # [m/s]\n",
    "Carrier_freq = 2e9  # [hz]=1/s\n",
    "GBS_location = [0,0,20] #[m] 20\n",
    "Num_GBS = 1\n",
    "# NUM_User = 10\n",
    "NUM_UAV = 2\n",
    "Cell_Radius = 1000 #[m]\n",
    "UAV_Height = 100#100 #[m] \"Cell-Edge User Offloading via Flying UAV in Non-Uniform Heterogeneous Cellular Networks,\" in IEEE Transactions on Wireless Communications, vol. 19, no. 4, pp. 2411-2426, April 2020, doi: 10.1109/TWC.2020.2964656.\n",
    "P_UAV = 10 **(37 / 10) / 1000 #[watt] \n",
    "P_GBS = 10 **(40 / 10) / 1000 #[watt]\n",
    "P_MAX = 0.4 # 26dbm, user\n",
    "# P_MIN = 0.1 # 20 dbm\n",
    "epsilon = 0.38 # power amplifier efficiency\n",
    "AWGN_DBM = -174 #[dBm]\n",
    "AWGN_W = 10 ** (AWGN_DBM / 10) / 1000\n",
    "air_density = 1.225 # Air density at sea level (kg/m³)\n",
    "g = 9.81            # Gravitational acceleration (m/s²)\n",
    "mass = 0.5           # Mass of UAV in kg\n",
    "radius = 0.2         # Rotor radius in meters\n",
    "num_rotors = 4\n",
    "P_MOVE =10 #[watt]\n",
    "V = 20 # m/s\n"
   ]
  },
  {
   "cell_type": "code",
   "execution_count": 3,
   "metadata": {},
   "outputs": [],
   "source": [
    "#Area\n",
    "AREA_WIDTH = 1000 #[m]\n",
    "def random_position():\n",
    "    # Generate a random position within the area\n",
    "    x = np.random.uniform(-Cell_Radius, Cell_Radius)\n",
    "    y = np.random.uniform(-Cell_Radius, Cell_Radius)\n",
    "    return (x, y, 0)\n",
    "\n",
    "User_position = []\n",
    "for i in range(45):\n",
    "    User_position.append(random_position())\n",
    "\n",
    "UAV_2D = []\n",
    "for i in range(2):\n",
    "    UAV_2D.append(random_position())\n",
    "\n",
    "UAV_position=[]\n",
    "for i in range(2):\n",
    "    # Convert to a list to modify it\n",
    "    temp_list = list(UAV_2D[i])\n",
    "    temp_list[2] = UAV_Height\n",
    "    updated_tuple = tuple(temp_list)\n",
    "    UAV_position.append(updated_tuple)"
   ]
  },
  {
   "cell_type": "code",
   "execution_count": 4,
   "metadata": {},
   "outputs": [
    {
     "data": {
      "text/plain": [
       "[(-39.57804365814411, -419.3110588372235, 0),\n",
       " (-714.8002067891609, 222.5864888245028, 0),\n",
       " (-739.6672231978907, -973.3426135565908, 0),\n",
       " (-20.401671945591943, -573.8284824931488, 0),\n",
       " (-305.06126123786953, 41.76485583057797, 0),\n",
       " (-977.8928807574587, 67.77027350881508, 0),\n",
       " (37.85542505615058, 529.8429516325552, 0),\n",
       " (-49.50122593894582, -774.522430569268, 0),\n",
       " (806.4529406197257, -143.29132010367493, 0),\n",
       " (-177.72373988034394, 181.06785872265777, 0),\n",
       " (-610.8645644848006, -820.8516307718671, 0),\n",
       " (633.0894260712389, 538.4606604479575, 0),\n",
       " (-440.07520593117124, -345.7290823286419, 0),\n",
       " (385.24023993243486, 434.56504205150577, 0),\n",
       " (16.925794202204315, -436.5584844579964, 0),\n",
       " (-703.8564898848036, -588.3103932521235, 0),\n",
       " (-575.5608613278356, 652.1464190988879, 0),\n",
       " (173.81548132642206, 429.539507927748, 0),\n",
       " (362.5929950371785, -216.65795084284343, 0),\n",
       " (482.1922732567923, -556.2364820120808, 0),\n",
       " (-892.5464508287155, -86.66038579128178, 0),\n",
       " (-323.8057841861637, -958.1634400385333, 0),\n",
       " (-451.2513336986905, 981.4580292229571, 0),\n",
       " (-675.561312290383, -564.8007334876351, 0),\n",
       " (90.31072436633099, 780.1919486562072, 0),\n",
       " (603.5289513418456, -514.8200027980934, 0),\n",
       " (895.7607911160683, 477.50412984282343, 0),\n",
       " (-297.7982290062031, 579.6827152973306, 0),\n",
       " (-340.1410680946202, 365.55059619717485, 0),\n",
       " (854.0350116102397, 257.34541617303375, 0),\n",
       " (373.35735231034073, -817.9417200280424, 0),\n",
       " (463.5195888375031, 566.8814592575916, 0),\n",
       " (658.9654780080914, -226.73019608707534, 0),\n",
       " (791.1694937550417, -461.5381652964596, 0),\n",
       " (803.7043977037649, -244.89588284336764, 0),\n",
       " (669.6652767873984, 842.5789404397128, 0),\n",
       " (-957.6549325166337, -33.21778757764491, 0),\n",
       " (-419.31117892160376, -380.29147047263723, 0),\n",
       " (-426.41515203812605, -681.7266862862481, 0),\n",
       " (-423.24807821527963, -581.5022490965805, 0),\n",
       " (-72.98527082782152, 926.8976579204252, 0),\n",
       " (-990.6936570460581, -602.9323258262602, 0),\n",
       " (-597.0309650943524, -877.4100198210117, 0),\n",
       " (-699.3033167291278, -562.9280296346369, 0),\n",
       " (-992.0418404177462, -20.41842905237172, 0)]"
      ]
     },
     "execution_count": 4,
     "metadata": {},
     "output_type": "execute_result"
    }
   ],
   "source": [
    "User_position"
   ]
  },
  {
   "cell_type": "code",
   "execution_count": 5,
   "metadata": {},
   "outputs": [],
   "source": [
    "def init_uav_positions(NUM_UAV, UAV_Height, random_position):\n",
    "\n",
    "    UAV_2D = [random_position() for _ in range(NUM_UAV)]\n",
    "    UAV_positions = []\n",
    "    \n",
    "    for i in range(NUM_UAV):\n",
    "        temp_list = list(UAV_2D[i])\n",
    "        temp_list[2] = UAV_Height\n",
    "        updated_tuple = tuple(temp_list)\n",
    "        UAV_positions.append(updated_tuple)\n",
    "    \n",
    "    return UAV_positions"
   ]
  },
  {
   "cell_type": "code",
   "execution_count": 6,
   "metadata": {},
   "outputs": [
    {
     "data": {
      "text/plain": [
       "array([[ 695.84220776, -584.03276239,  100.        ],\n",
       "       [-300.59982575,  271.26413994,  100.        ]])"
      ]
     },
     "execution_count": 6,
     "metadata": {},
     "output_type": "execute_result"
    }
   ],
   "source": [
    "# initail location UAVs\n",
    "UAV_position =np.array(UAV_position)\n",
    "UAV_position"
   ]
  },
  {
   "cell_type": "code",
   "execution_count": 7,
   "metadata": {},
   "outputs": [],
   "source": [
    "# Fixed location User\n",
    "User_position = [\n",
    "(653.8316581607805, -590.3141344883956, 0),\n",
    " (655.7839795019095, 511.39715579708627, 0),\n",
    " (-366.9200930533958, -378.53106855942656, 0),\n",
    " (774.0710077290566, -813.74371579118, 0),\n",
    " (-902.1513920204236, 689.4058695488745, 0),\n",
    " (-887.8742394199635, 629.5122712145035, 0),\n",
    " (-480.4469889568361, -411.7900064526441, 0),\n",
    " (-584.0565231366488, -207.29087777276175, 0),\n",
    " (917.8907259745158, -388.6065319450123, 0),\n",
    " (482.22239122176074, 382.7717524589923, 0),\n",
    " (75.08205947,\t-246.6113445,\t0),\n",
    "(89.08034796,\t93.40797308\t,0),\n",
    "(539.8534823,\t-160.3015493,\t0),\n",
    "(139.7089773,\t716.6716587\t,0),\n",
    "(-569.3566777,\t263.1666404\t,0),\n",
    "(-90.29446879,\t-288.6084637\t,0),\n",
    "(-767.5899487,\t-135.3924119,\t0),\n",
    "(773.8435759\t,-235.8694596\t,0),\n",
    "(613.2944812\t,608.7494777\t,0),\n",
    "(204.2851089\t,-171.0078052\t,0),\n",
    "# (386.1443989\t,-926.5117843\t,0),\n",
    "# (-938.0904915\t,99.43896713\t,0),\n",
    "# (-937.1604717,\t-444.6725165\t,0),\n",
    "# (694.8819289\t,668.5820704\t,0),\n",
    "# (834.6212365\t,987.1367586,\t0),\n",
    "# (348.2927666\t,-81.11493568\t,0),\n",
    "# (-955.8690815\t,81.17473736\t,0),\n",
    "# (-545.2280657\t,977.3220921\t,0),\n",
    "# (-700.3981729\t,-579.959419\t,0),\n",
    "# (653.7133739\t,-669.164471\t,0),\n",
    "]"
   ]
  },
  {
   "cell_type": "code",
   "execution_count": 8,
   "metadata": {},
   "outputs": [
    {
     "data": {
      "text/plain": [
       "20"
      ]
     },
     "execution_count": 8,
     "metadata": {},
     "output_type": "execute_result"
    }
   ],
   "source": [
    "NUM_User = len(User_position)\n",
    "NUM_User"
   ]
  },
  {
   "cell_type": "code",
   "execution_count": 9,
   "metadata": {},
   "outputs": [
    {
     "data": {
      "text/plain": [
       "array([[0., 0., 0., 0., 0., 0., 0., 0., 0., 0., 0., 0., 0., 0., 0., 0.,\n",
       "        0., 0., 0., 0.],\n",
       "       [0., 0., 0., 0., 0., 0., 0., 0., 0., 0., 0., 0., 0., 0., 0., 0.,\n",
       "        0., 0., 0., 0.],\n",
       "       [0., 0., 0., 0., 0., 0., 0., 0., 0., 0., 0., 0., 0., 0., 0., 0.,\n",
       "        0., 0., 0., 0.]])"
      ]
     },
     "execution_count": 9,
     "metadata": {},
     "output_type": "execute_result"
    }
   ],
   "source": [
    "#Calculate Distance\n",
    "def distance(x1,y1,z1,x2,y2,z2):\n",
    "    return np.sqrt((x1 - x2)**2 + (y1 - y2)**2 + (z1 - z2)**2)\n",
    "D_n_bs = np.zeros((NUM_UAV + Num_GBS, NUM_User))\n",
    "D_n_bs"
   ]
  },
  {
   "cell_type": "code",
   "execution_count": 10,
   "metadata": {},
   "outputs": [],
   "source": [
    "#pathloss, unitless\n",
    "def gain_n(distance):\n",
    "    c = Speed_of_light\n",
    "    f= Carrier_freq\n",
    "    pi = np.pi\n",
    "    return (c/(4*pi*f*distance))**(2)"
   ]
  },
  {
   "cell_type": "code",
   "execution_count": 11,
   "metadata": {},
   "outputs": [],
   "source": [
    "#Generte link selection\n",
    "def generate_matrix_and_assign_users(rows=3, cols=10):\n",
    "    while True:\n",
    "        matrix_selection = np.zeros((rows, cols), dtype=int)\n",
    "        for col in range(cols):\n",
    "            row_idx = np.random.randint(0, rows)\n",
    "            matrix_selection[row_idx, col] = 1\n",
    "        \n",
    "        # Calculate row sums\n",
    "        tmp = np.sum(matrix_selection, axis=1)\n",
    "        if tmp[0] > 0 and tmp[1] > 0:\n",
    "            break\n",
    "    \n",
    "    # Determine user assignments based on the matrix\n",
    "    UAV1_user = np.argwhere(matrix_selection[0] == 1).T[0].tolist()\n",
    "    UAV2_user = np.argwhere(matrix_selection[1] == 1).T[0].tolist()\n",
    "    GBS_user = np.argwhere(matrix_selection[2] == 1).T[0].tolist()\n",
    "    \n",
    "    return matrix_selection, UAV1_user, UAV2_user, GBS_user\n",
    "matrix_selection, UAV1_user, UAV2_user, GBS_user = generate_matrix_and_assign_users()"
   ]
  },
  {
   "cell_type": "code",
   "execution_count": 12,
   "metadata": {},
   "outputs": [],
   "source": [
    "# generate selectionn not yet set constraint\n",
    "import random\n",
    "rows = 3\n",
    "cols = 10\n",
    "while True:\n",
    "    matrix_selection = np.zeros((rows, cols), dtype=int) # matrix\n",
    "    for col in range(cols):\n",
    "        row_idx = np.random.randint(0, rows)\n",
    "        matrix_selection[row_idx, col] = 1\n",
    "    tmp = np.sum(matrix_selection, axis=1)\n",
    "    # print(tmp[0])\n",
    "    if tmp[0] > 0 and tmp[1] > 0:\n",
    "        break\n",
    "UAV1_user = np.argwhere(matrix_selection[0] == 1).T[0].tolist()\n",
    "UAV2_user = np.argwhere(matrix_selection[1] == 1).T[0].tolist()\n",
    "GBS_user = np.argwhere(matrix_selection[2] == 1).T[0].tolist()"
   ]
  },
  {
   "cell_type": "code",
   "execution_count": 13,
   "metadata": {},
   "outputs": [
    {
     "data": {
      "text/plain": [
       "[0.21334529736671276,\n",
       " 0.3524799804677603,\n",
       " 0.4467179564366162,\n",
       " 0.6446879967707939,\n",
       " 1.6161129963005083,\n",
       " 1.7385281089303324]"
      ]
     },
     "execution_count": 13,
     "metadata": {},
     "output_type": "execute_result"
    }
   ],
   "source": [
    "# # SINR with NOMA in same coverage of UAV1\n",
    "# num_tslot =24\n",
    "# time_slots = np.arange(0, num_tslot)\n",
    "power_min = 0.1\n",
    "power_max = P_UAV\n",
    "\n",
    "p_u1_level = np.random.uniform(power_min, power_max, len(UAV1_user))\n",
    "p_u1_normalize = p_u1_level / np.sum(p_u1_level) * power_max\n",
    "power_sort = sorted(p_u1_normalize)\n",
    "power_sort"
   ]
  },
  {
   "cell_type": "code",
   "execution_count": 14,
   "metadata": {},
   "outputs": [
    {
     "name": "stderr",
     "output_type": "stream",
     "text": [
      "c:\\Users\\Sothearath\\anaconda3\\envs\\python3_7\\lib\\site-packages\\ipykernel_launcher.py:6: RuntimeWarning: divide by zero encountered in true_divide\n",
      "  \n"
     ]
    },
    {
     "data": {
      "text/plain": [
       "([inf, inf, inf, inf, inf, inf], [2, 3, 4, 5, 6, 9])"
      ]
     },
     "execution_count": 14,
     "metadata": {},
     "output_type": "execute_result"
    }
   ],
   "source": [
    "# SINR\n",
    "def noma_sinr(channel_conditions, selected_users, powers, transmitter_id):\n",
    "    if not selected_users:\n",
    "        return [], []\n",
    "    \n",
    "    gains = [channel_conditions[transmitter_id, user] for user in selected_users]\n",
    "    # Sort users by channel gain (strongest first)\n",
    "    sorted_indices = np.argsort(gains)[::-1]  # Descending order\n",
    "    sorted_users = [selected_users[i] for i in sorted_indices]\n",
    "    sorted_gains = [gains[i] for i in sorted_indices]\n",
    "    sinrs = []\n",
    "    for i, user in enumerate(sorted_indices):\n",
    "        interference = 0\n",
    "        sinr = (powers[user] * sorted_gains[user]) / (AWGN_W + interference)\n",
    "        sinrs.append(sinr)\n",
    "    \n",
    "    return sinrs, selected_users\n",
    "sinrs = noma_sinr(gain_n(D_n_bs), UAV1_user, power_sort, 0)\n",
    "sinrs"
   ]
  },
  {
   "cell_type": "code",
   "execution_count": 15,
   "metadata": {},
   "outputs": [
    {
     "data": {
      "text/plain": [
       "array([inf, inf, inf, inf, inf, inf])"
      ]
     },
     "execution_count": 15,
     "metadata": {},
     "output_type": "execute_result"
    }
   ],
   "source": [
    "#Data rate\n",
    "num_user = NUM_User\n",
    "sorted_users = sinrs[1]\n",
    "sorted_users_sinr = sinrs[0]\n",
    "def calculate_transmission_rate(sinr, num_user):\n",
    "    \"\"\"Calculate achievable rate using Shannon capacity\"\"\"\n",
    "    if num_user == 0:\n",
    "        num_user = 1\n",
    "    return (int(bandwidth/num_user) * np.log2(1 + sinr))/1e6 # MHz\n",
    "\n",
    "rate_n = calculate_transmission_rate(np.array(sorted_users_sinr), 1)\n",
    "rate_n"
   ]
  },
  {
   "cell_type": "code",
   "execution_count": 16,
   "metadata": {},
   "outputs": [],
   "source": [
    "#Data rate from transformer peak 16PM\n",
    "# 10 user\n",
    "# traffic_data = np.array([ 8.795845 ,  4.476116 ,  5.5037837,  6.0243654, 12.920729 ,\n",
    "#         5.5970373,  6.0550256,  4.872516 ,  7.577386 ,  9.967498 ])\n",
    "# # #15 user\n",
    "# traffic_data = np.array([14.2345, 4.7710037, 7.6004195, 7.6562877, 22.904835, 10.31743,\n",
    "#                          10.02901, 10.140568, 13.525869, 17.060368, 20.13406, 3.3490102, \n",
    "#                          17.419847, 15.829944, 6.5886827 ])\n",
    "# 20 user\n",
    "# traffic_data = np.array([15.045018, 6.545699, 7.0056453, 7.0192256, 26.408241, 9.260441, \n",
    "#                          10.931942, 8.048492, 12.15611, 15.898077, 19.099787, 4.9521737,\n",
    "#                            17.933542, 14.467922, 9.955734, 13.156038, 21.471113, 10.216565, 8.602531, 17.791065])\n",
    "\n",
    "#25 user\n",
    "# traffic_data = np.array([14.101378, 6.327937, 6.9734707, 7.705143, 24.17083, 8.45224, 10.937698,\n",
    "#                           7.165816, 13.620338, 16.299187, 21.602406, 4.3687615, 18.788303, 16.177567, \n",
    "#                           8.267505, 15.565486, 23.637806, 11.268315, 8.559526, 16.202307, 17.567959, 23.138298, \n",
    "#                           19.848198, 4.852388, 10.035355])\n",
    "\n",
    "# 30 user\n",
    "traffic_data = np.array([13.730608, 5.326337, 6.305037, 8.3221855, 24.156334, 9.056003, 11.426689, 11.308687, \n",
    "                         13.707179, 16.739891, 22.561272, 4.2011957, 16.53558, 13.905987, 4.317765, 14.405717, \n",
    "                         23.871864, 11.336344, 9.031543, 19.897724, 16.41292, 19.279444, 18.578587, 5.886368, 8.510113,\n",
    "                           8.288387, 10.033254, 18.78224, 12.353946, 24.130177])"
   ]
  },
  {
   "cell_type": "code",
   "execution_count": 17,
   "metadata": {},
   "outputs": [
    {
     "data": {
      "text/plain": [
       "30"
      ]
     },
     "execution_count": 17,
     "metadata": {},
     "output_type": "execute_result"
    }
   ],
   "source": [
    "len(traffic_data)"
   ]
  },
  {
   "cell_type": "code",
   "execution_count": 18,
   "metadata": {},
   "outputs": [],
   "source": [
    "action_raw = [1.0, 1.0, 1.0, 1.0, 1.0, 1.0, 1.0, 1.0, 1.0, 1.0, 1.0, 1.0, 1.0, 1.0, 1.0, 1.0, 1.0, 1.0, 1.0, 1.0, 1.0, 1.0, 1.0, 1.0 ,1.0, 1.0, 1.0, 1.0, 1.0, 1.0, 1.0, 1.0, 1.0, 1.0, 1.0, 1.0, 1.0, 1.0, 1.0, 1.0, 1.0, 1.0, 1.0, 1.0, 1.0, 1.0, 1.0, 1.0 ]  \n"
   ]
  },
  {
   "cell_type": "code",
   "execution_count": 19,
   "metadata": {},
   "outputs": [
    {
     "data": {
      "text/plain": [
       "48"
      ]
     },
     "execution_count": 19,
     "metadata": {},
     "output_type": "execute_result"
    }
   ],
   "source": [
    "len(action_raw)"
   ]
  },
  {
   "cell_type": "code",
   "execution_count": 20,
   "metadata": {},
   "outputs": [
    {
     "data": {
      "text/plain": [
       "2.0"
      ]
     },
     "execution_count": 20,
     "metadata": {},
     "output_type": "execute_result"
    }
   ],
   "source": [
    "# Scale from DDPG to actual value\n",
    "def actual_power(x):\n",
    "    return (x + 1) * (0.4 / 2) #0.4\n",
    "\n",
    "def actual_band_ratio(x):\n",
    "    return (np.array(x) + 1) / 2\n",
    "\n",
    "def actual_location(x):\n",
    "    return (x * 1000)\n",
    "\n",
    "def actual_selected(x):\n",
    "    return ((x + 1) * (NUM_UAV + Num_GBS - 1))/2\n",
    "actual_selected(action_raw[-1])"
   ]
  },
  {
   "cell_type": "code",
   "execution_count": 21,
   "metadata": {},
   "outputs": [
    {
     "data": {
      "text/plain": [
       "40.70611888041029"
      ]
     },
     "execution_count": 21,
     "metadata": {},
     "output_type": "execute_result"
    }
   ],
   "source": [
    "# Find max Rate\n",
    "max_band_ratio = 1\n",
    "distance_min = 100 #meter\n",
    "P_MAX_user = 0.5011872336272725 \n",
    "max_gain = gain_n(distance_min)\n",
    "max_sinr = ( P_MAX_user* max_gain) / (AWGN_W )\n",
    "max_rate = (max_band_ratio * bandwidth) * np.log2(1 + max_sinr)/1e6 # MHz\n",
    "max_rate"
   ]
  },
  {
   "cell_type": "code",
   "execution_count": 22,
   "metadata": {},
   "outputs": [
    {
     "data": {
      "text/plain": [
       "array([0.43232622, 0.1302291 , 0.45655955, 0.25912875, 0.23012548,\n",
       "       0.39527968, 0.48050516, 0.04259215, 0.28829959, 0.17302914,\n",
       "       0.13928386, 0.09440731, 0.10411798, 0.32899133, 0.12344397,\n",
       "       0.39625365, 0.0825437 , 0.46301945, 0.04641166, 0.27760828])"
      ]
     },
     "execution_count": 22,
     "metadata": {},
     "output_type": "execute_result"
    }
   ],
   "source": [
    "#power constrains for (-1,1)\n",
    "\n",
    "# Define the max power for the UAV\n",
    "P_max = P_UAV \n",
    "num_users = NUM_User\n",
    "P_min = 0.001  \n",
    "P_max_user = 0.5011872336272725  \n",
    "\n",
    "# Define the scaling function to map DDPG actions (-1 to 1) to power allocations\n",
    "def scale_action_to_power(action, P_min, P_max_user):\n",
    "    return (action + 1) / 2 * (P_max_user - P_min) + P_min\n",
    "\n",
    "# Function to ensure total power does not exceed P_max\n",
    "def control_power_allocation(actions, P_max):\n",
    "    power_allocations = scale_action_to_power(actions, P_min, P_max_user)\n",
    "    total_power = np.sum(power_allocations)\n",
    "    \n",
    "    # Step 3: If total power exceeds P_max, scale down allocations proportionally\n",
    "    if total_power > P_max:\n",
    "        scaling_factor = P_max / total_power\n",
    "        power_allocations = power_allocations * scaling_factor\n",
    "        \n",
    "    return power_allocations\n",
    "\n",
    "# Example DDPG action (output from the DDPG agent)\n",
    "ddpg_actions = np.random.uniform(-1, 1, num_users)  # Random actions for testing\n",
    "\n",
    "# Control the power allocation\n",
    "allocated_power = control_power_allocation(ddpg_actions, P_max)\n",
    "allocated_power\n"
   ]
  },
  {
   "cell_type": "code",
   "execution_count": 23,
   "metadata": {},
   "outputs": [],
   "source": [
    "# Define the max power for the UAV\n",
    "P_max = P_UAV \n",
    "num_users = NUM_User\n",
    "P_min = 0.001  \n",
    "P_max_user = 0.5011872336272725  \n",
    "def control_power_allocation(actions, P_max):\n",
    "    power_allocations = actions\n",
    "    total_power = np.sum(actions)\n",
    "    \n",
    "    # Step 3: If total power exceeds P_max, scale down allocations proportionally\n",
    "    if total_power > P_max:\n",
    "        scaling_factor = P_max / total_power\n",
    "        power_allocations = power_allocations * scaling_factor\n",
    "        \n",
    "    return power_allocations\n",
    "actions = np.array([0.5,1,3,2])\n",
    "# control_power_allocation(actions, P_max)\n"
   ]
  },
  {
   "cell_type": "code",
   "execution_count": 24,
   "metadata": {},
   "outputs": [],
   "source": [
    "# Calculate Energy consumption\n",
    "num_tslot = 24\n",
    "time_slots = np.arange(0, num_tslot)\n",
    "def calculate_com_energy(time_slot,p_tx, data_tx, data_rate):\n",
    "   \n",
    "    opt_time = data_tx / data_rate \n",
    "    \n",
    "    # energy_hov = (hover_power * max(opt_time))  # Watt-s\n",
    "    energy_com = (p_tx * opt_time)           # Watt-s\n",
    "    return energy_com ,0 #energy_hov"
   ]
  },
  {
   "cell_type": "code",
   "execution_count": 25,
   "metadata": {},
   "outputs": [
    {
     "data": {
      "text/plain": [
       "(-14.162553724678723, 1.8204913778488687, 71.09496210338183)"
      ]
     },
     "execution_count": 25,
     "metadata": {},
     "output_type": "execute_result"
    }
   ],
   "source": [
    "# Scale UAV: Objective function \n",
    "request_rate = traffic_data\n",
    "def object_function(action):\n",
    "    P_max = P_UAV\n",
    "    power_level = np.array([action[i] for i in range(NUM_User)])\n",
    "    # power_allocations = control_power_allocation(power_level[:NUM_User], P_max)\n",
    "    power_allocations = power_level\n",
    "    # print(f\"power_allocations:{(power_allocations)}\")\n",
    "    uav_locations = np.array([(action[i]) for i in range(NUM_User, NUM_User + 2 * NUM_UAV)])\n",
    "    \n",
    "    uav_positions = uav_locations.reshape(NUM_UAV, 2)  # Reshape into (NUM_UAV, 2) -> (x, y) pairs\n",
    "    \n",
    "    end_index = min(NUM_User + 2 * NUM_UAV + NUM_User, len(action))    \n",
    "   \n",
    "    link_values = action[NUM_User + 2 * NUM_UAV : end_index]\n",
    "    \n",
    "    link_uavs = {uav_idx: [] for uav_idx in range(NUM_UAV)}\n",
    "    link_bs = []\n",
    "    bs_user_count = 0  # Variable to track the number of users connected to the BS\n",
    "\n",
    "    for i, value in enumerate(link_values):\n",
    "        user_assigned = False\n",
    "        \n",
    "        # First, try to assign the user to a UAV if possible\n",
    "        for uav_idx in range(NUM_UAV):\n",
    "            if uav_idx <= value < (uav_idx + 1):\n",
    "                link_uavs[uav_idx].append(i)\n",
    "                user_assigned = True\n",
    "                break\n",
    "        \n",
    "        # If the user wasn't assigned to a UAV, check the number of users at the BS\n",
    "        if not user_assigned:\n",
    "            if bs_user_count < 5:  # If there are less than 15 users at the BS, assign to BS\n",
    "                link_bs.append(i)\n",
    "                bs_user_count += 1\n",
    "            else:  # If there are more than 15 users, assign the user to a UAV\n",
    "                # Find an appropriate UAV (you can modify this logic to be more dynamic if needed)\n",
    "                # For simplicity, let's assign the user to the first UAV\n",
    "                # link_uavs[0].append(i)  # This could be adjusted for load balancing\n",
    "                # print(f\"==>>link_uav1: {(len(link_uavs[0]))}\")\n",
    "                # print(f\"==>>link_uav2: {(len(link_uavs[1]))}\")\n",
    "                min_uav_idx = min(range(NUM_UAV), key=lambda uav_idx: len(link_uavs[uav_idx]))\n",
    "                link_uavs[min_uav_idx].append(i)\n",
    "\n",
    "    # print(f\"bs_user_count:{bs_user_count}\")\n",
    "    # print(f\"link_uavs:{link_uavs}\")\n",
    "    # print(f\"link_bs:{link_bs}\")\n",
    "    powers = power_allocations\n",
    "    p_user_uavs = {uav_idx: powers[link_uavs[uav_idx]] for uav_idx in range(NUM_UAV)}\n",
    "    \n",
    "    link_lists = [link_uavs[i] for i in range(NUM_UAV)]\n",
    "    p_user_lists = [p_user_uavs[i][0:len(link_lists[i])] for i in range(NUM_UAV)]\n",
    "    p_user_bs = powers[link_bs]\n",
    "\n",
    "    for uav_id in range(NUM_UAV):\n",
    "        x_uav, y_uav = uav_positions[uav_id]\n",
    "        for j in range(NUM_User):\n",
    "            user_pos = User_position[j]\n",
    "            D_n_bs[uav_id][j] = distance(x1=x_uav, y1=y_uav, z1=UAV_Height, x2=user_pos[0], y2=user_pos[1], z2=user_pos[2])\n",
    "\n",
    "    for j in range(NUM_User):\n",
    "        user_pos = User_position[j]\n",
    "        D_n_bs[NUM_UAV][j] = distance(x1=GBS_location[0], y1=GBS_location[1], z1=GBS_location[2], x2=user_pos[0], y2=user_pos[1], z2=user_pos[2])\n",
    "\n",
    "    channel_gains = gain_n(D_n_bs)\n",
    "    \n",
    "    sinr_uavs = [noma_sinr(channel_gains, link_lists[i], p_user_lists[i], i) for i in range(NUM_UAV)]\n",
    "    sinr_bs = noma_sinr(channel_gains, link_bs, p_user_bs, NUM_UAV)\n",
    "    rate_mbps_uavs = [calculate_transmission_rate(np.array(sinr_uavs[i][0]), len(link_lists[i])) for i in range(NUM_UAV)]\n",
    "    rate_mbps_bs = calculate_transmission_rate(np.array(sinr_bs[0]), len(link_bs))\n",
    "    # sum_rate = sum([np.sum(rate) for rate in rate_mbps_uavs]) + np.sum(rate_mbps_bs)\n",
    "    requested_rates_uavs = [request_rate[sinr_uavs[i][1]] for i in range(NUM_UAV)]\n",
    "    energy_uavs = [calculate_com_energy(time_slots[0], p_user_lists[i], requested_rates_uavs[i], rate_mbps_uavs[i]) if link_lists[i] else ([0], [0]) for i in range(NUM_UAV)]\n",
    "    \n",
    "    energy_com_uavs = [energy_uavs[i][0] for i in range(NUM_UAV)]\n",
    "    energy_hov_uavs = [0 for _ in range(NUM_UAV)]\n",
    "    energy_mov_uavs = [0.00 for _ in range(NUM_UAV)]\n",
    "    \n",
    "    sum_energy_uavs = [energy_mov_uavs[i] + np.sum(energy_com_uavs[i]) + energy_hov_uavs[i] for i in range(NUM_UAV)]\n",
    "    sum_energy = sum(sum_energy_uavs)\n",
    "    check_minrate = [*rate_mbps_bs] + [rate for sublist in rate_mbps_uavs for rate in sublist]\n",
    "    UAV_energy = sum_energy_uavs\n",
    "    \n",
    "\n",
    "    avg_rate = np.mean(check_minrate)\n",
    "    avg_energy = sum_energy / NUM_UAV\n",
    "    max_energy = P_MAX_user * 5\n",
    "    rate_normalize = avg_rate * (1 / int(max_rate))\n",
    "    energy_normalize = - (avg_energy / max_energy)\n",
    "    result_obj_normalize = (0.5*rate_normalize) +  (0.5*energy_normalize)\n",
    "    # print(f\"==>>result_obj_normalize: {(result_obj_normalize)}\")\n",
    "    return result_obj_normalize , avg_rate, avg_energy\n",
    "    \n",
    "object_function(action_raw)\n"
   ]
  },
  {
   "cell_type": "code",
   "execution_count": 26,
   "metadata": {},
   "outputs": [
    {
     "name": "stdout",
     "output_type": "stream",
     "text": [
      "Iteration 1: Reward=-0.8964 | Rate=4.8401 | Energy=4.7959\n",
      "Iteration 2: Reward=-0.8223 | Rate=4.9173 | Energy=4.4293\n",
      "Iteration 3: Reward=-0.7901 | Rate=4.9095 | Energy=4.2672\n",
      "Iteration 4: Reward=-0.7198 | Rate=4.9460 | Energy=3.9175\n",
      "Iteration 5: Reward=0.0479 | Rate=4.3428 | Energy=0.0319\n",
      "Iteration 6: Reward=0.0479 | Rate=4.6030 | Energy=0.0481\n",
      "Iteration 7: Reward=0.0479 | Rate=4.6030 | Energy=0.0481\n",
      "Iteration 8: Reward=0.0479 | Rate=4.6030 | Energy=0.0481\n",
      "Iteration 9: Reward=0.0479 | Rate=4.6033 | Energy=0.0481\n",
      "Iteration 10: Reward=0.0479 | Rate=4.6033 | Energy=0.0481\n",
      "Iteration 11: Reward=0.0480 | Rate=4.6046 | Energy=0.0479\n",
      "Iteration 12: Reward=0.0508 | Rate=4.5486 | Energy=0.0305\n",
      "\n",
      "Optimization Result:\n",
      "Final f(x) = -0.0508\n",
      "Final x = [ 5.01187234e-01  5.01187234e-01  5.01187234e-01  5.01187234e-01\n",
      "  1.00000000e-03  1.00000000e-03  1.00000000e-03  1.00000000e-03\n",
      "  1.00000000e-03  1.00000000e-03  1.00000000e-03  5.01187234e-01\n",
      "  1.00000000e-03  1.00000000e-03  1.24595638e-03  1.00000000e-03\n",
      "  1.00000000e-03  1.00000000e-03  1.00000000e-03  1.00000000e-03\n",
      "  7.30838356e+02 -1.91534699e+02 -7.01069032e+02 -9.42342486e+01\n",
      "  3.79710975e+02  1.21489054e+02  1.17781406e+02  7.88882921e+02\n",
      "  1.88127767e+00  1.75368828e+00  1.00259453e+00  1.61656845e+00\n",
      "  4.00396803e-01  6.38653735e-01  7.65147597e-01  2.24627255e+00\n",
      "  2.88701840e-01  2.78020499e+00  1.13067962e+00  1.94142200e+00\n",
      "  1.89940308e+00  2.62862597e+00  2.82594654e+00  2.96540090e+00\n",
      "  2.86035982e+00  2.76527966e+00  4.01704174e-01  5.80068035e-01\n",
      "  2.47954460e+00  1.59102255e+00  1.32707431e+00  2.00483213e+00\n",
      "  2.15509905e+00  2.63776839e+00  1.10568215e+00  5.97752600e-01\n",
      "  2.80201803e+00  7.43583128e-01]\n"
     ]
    }
   ],
   "source": [
    "# only reward\n",
    "final_result = []\n",
    "final_action = []\n",
    "# for _ in range (10): \n",
    "def obj_f(x): \n",
    "    result_obj_normalize, _, _ = object_function(x)\n",
    "    return - result_obj_normalize\n",
    "\n",
    "bounds = [(P_min, P_max_user),(P_min, P_max_user),(P_min, P_max_user), (P_min, P_max_user),(P_min, P_max_user), (P_min, P_max_user), (P_min, P_max_user),(P_min, P_max_user),(P_min, P_max_user), (P_min, P_max_user),\n",
    "        (P_min, P_max_user), (P_min, P_max_user),(P_min, P_max_user),(P_min, P_max_user), (P_min, P_max_user),(P_min, P_max_user), (P_min, P_max_user),(P_min, P_max_user),(P_min, P_max_user), (P_min, P_max_user),\n",
    "        \n",
    "        (-1000,1000), (-1000,1000), (-1000,1000), (-1000,1000),(-1000,1000), (-1000,1000),(-1000,1000), (-1000,1000),\n",
    "         (0,3),(0,3),(0,3),(0,3),(0,3),(0,3),(0,3),(0,3),(0,3),(0,3),(0,3),(0,3),(0,3),(0,3),(0,3),(0,3),(0,3),(0,3),(0,3),(0,3),(0,3),(0,3),(0,3),(0,3),(0,3),(0,3),(0,3),(0,3),(0,3),(0,3)]\n",
    "results = {'fun': [], 'x': [], 'avg_rate':[], 'avg_energy':[]}\n",
    "# Define the callback function to print results at each iteration\n",
    "def callback(xk, f, context):\n",
    "    results['fun'].append(f)\n",
    "    results['x'].append(xk)\n",
    "    # Call object_function to get rate and energy\n",
    "    result_obj_normalize, avg_rate, avg_energy = object_function(xk)\n",
    "    results['avg_rate'].append(avg_rate)\n",
    "    results['avg_energy'].append(avg_energy)\n",
    "\n",
    "    # Print directly at each iteration\n",
    "    print(f\"Iteration {len(results['x'])}: Reward={result_obj_normalize:.4f} | Rate={avg_rate:.4f} | Energy={avg_energy:.4f}\")\n",
    "# result = dual_annealing(obj_f, bounds, callback=callback, maxiter=100)\n",
    "try:\n",
    "    result = dual_annealing(obj_f, bounds, callback=callback, maxiter=1000)\n",
    "except Exception as e:\n",
    "    print(f\"An error occurred: {e}\")\n",
    "\n",
    "final_action.append(result['x'])\n",
    "final_result.append(result['fun'])\n",
    "# Initialize an empty dictionary to store results\n",
    "print(\"\\nOptimization Result:\")\n",
    "print(f\"Final f(x) = {result['fun']:.4f}\")\n",
    "print(f\"Final x = {result['x']}\")\n",
    "\n",
    "\n",
    "# plt.plot(np.negative((results['fun'])))\n",
    "# plt.xlabel('Iteration')\n",
    "# plt.ylabel('f(x)')\n",
    "# plt.title('Reward Trade-off')\n",
    "# plt.show()"
   ]
  }
 ],
 "metadata": {
  "kernelspec": {
   "display_name": "python3_7",
   "language": "python",
   "name": "python3"
  },
  "language_info": {
   "codemirror_mode": {
    "name": "ipython",
    "version": 3
   },
   "file_extension": ".py",
   "mimetype": "text/x-python",
   "name": "python",
   "nbconvert_exporter": "python",
   "pygments_lexer": "ipython3",
   "version": "3.7.12"
  }
 },
 "nbformat": 4,
 "nbformat_minor": 2
}
