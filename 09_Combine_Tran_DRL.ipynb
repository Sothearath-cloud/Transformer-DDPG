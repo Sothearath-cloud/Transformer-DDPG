{
 "cells": [
  {
   "cell_type": "code",
   "execution_count": 1,
   "metadata": {},
   "outputs": [],
   "source": [
    "import math # cos() for Rastrigin\n",
    "import copy # array-copying convenience\n",
    "import sys # max float\n",
    "import numpy as np\n",
    "import sympy as sp\n",
    "from sympy.plotting import plot\n",
    "from sympy.plotting import plot3d\n",
    "import matplotlib.pyplot as plt\n",
    "import time\n",
    "import numpy as np\n",
    "import matplotlib.pyplot as plt\n",
    "from mpl_toolkits.mplot3d import Axes3D\n",
    "import torch\n",
    "import torch.nn as nn\n",
    "import torch.optim as optim\n",
    "from collections import deque\n",
    "import random\n",
    "from ddpg_agent import Agent\n",
    "import pandas as pd"
   ]
  },
  {
   "cell_type": "code",
   "execution_count": 2,
   "metadata": {},
   "outputs": [],
   "source": [
    "## parameter/ constant\n",
    "bandwidth = 1e6  # [hz]\n",
    "Speed_of_light = 3e8  # [m/s]\n",
    "Carrier_freq = 2e9  # [hz]=1/s\n",
    "GBS_location = [0,0,20] #[m] 20\n",
    "Num_GBS = 1\n",
    "# NUM_User = 10\n",
    "NUM_UAV = 2\n",
    "Cell_Radius = 1000 #[m]\n",
    "UAV_Height = 100#100 #[m] \"Cell-Edge User Offloading via Flying UAV in Non-Uniform Heterogeneous Cellular Networks,\" in IEEE Transactions on Wireless Communications, vol. 19, no. 4, pp. 2411-2426, April 2020, doi: 10.1109/TWC.2020.2964656.\n",
    "P_UAV = 10 **(37 / 10) / 1000 #[watt] \n",
    "P_GBS = 10 **(40 / 10) / 1000 #[watt]\n",
    "P_MAX = 0.4 # 26dbm, user\n",
    "# P_MIN = 0.1 # 20 dbm\n",
    "epsilon = 0.38 # power amplifier efficiency\n",
    "AWGN_DBM = -174 #[dBm]\n",
    "AWGN_W = 10 ** (AWGN_DBM / 10) / 1000\n",
    "air_density = 1.225 # Air density at sea level (kg/m³)\n",
    "g = 9.81            # Gravitational acceleration (m/s²)\n",
    "mass = 0.5           # Mass of UAV in kg\n",
    "radius = 0.2         # Rotor radius in meters\n",
    "num_rotors = 4\n",
    "P_MOVE =10 #[watt]\n",
    "V = 20 # m/s\n"
   ]
  },
  {
   "cell_type": "code",
   "execution_count": 3,
   "metadata": {},
   "outputs": [
    {
     "name": "stdout",
     "output_type": "stream",
     "text": [
      "[-493.91096025993807, 735.1287687128302, 100]\n",
      "[-169.99821401449378, -802.6997114045413, 100]\n"
     ]
    }
   ],
   "source": [
    "#Area\n",
    "AREA_WIDTH = 1000 #[m]\n",
    "def random_position():\n",
    "    # Generate a random position within the area\n",
    "    x = np.random.uniform(-Cell_Radius, Cell_Radius)\n",
    "    y = np.random.uniform(-Cell_Radius, Cell_Radius)\n",
    "    return (x, y, 0)\n",
    "\n",
    "User_position = []\n",
    "for i in range(45):\n",
    "    User_position.append(random_position())\n",
    "\n",
    "UAV_2D = []\n",
    "for i in range(2):\n",
    "    UAV_2D.append(random_position())\n",
    "\n",
    "UAV_position=[]\n",
    "for i in range(2):\n",
    "    # Convert to a list to modify it\n",
    "    temp_list = list(UAV_2D[i])\n",
    "    temp_list[2] = UAV_Height\n",
    "    updated_tuple = tuple(temp_list)\n",
    "    print(temp_list)\n",
    "    UAV_position.append(updated_tuple)"
   ]
  },
  {
   "cell_type": "code",
   "execution_count": 5,
   "metadata": {},
   "outputs": [],
   "source": [
    "def init_uav_positions(NUM_UAV, UAV_Height, random_position):\n",
    "\n",
    "    UAV_2D = [random_position() for _ in range(NUM_UAV)]\n",
    "    UAV_positions = []\n",
    "    \n",
    "    for i in range(NUM_UAV):\n",
    "        temp_list = list(UAV_2D[i])\n",
    "        temp_list[2] = UAV_Height\n",
    "        updated_tuple = tuple(temp_list)\n",
    "        # print(temp_list)\n",
    "        UAV_positions.append(updated_tuple)\n",
    "    \n",
    "    return UAV_positions"
   ]
  },
  {
   "cell_type": "code",
   "execution_count": null,
   "metadata": {},
   "outputs": [
    {
     "data": {
      "text/plain": [
       "array([[-493.91096026,  735.12876871,  100.        ],\n",
       "       [-169.99821401, -802.6997114 ,  100.        ]])"
      ]
     },
     "execution_count": 6,
     "metadata": {},
     "output_type": "execute_result"
    }
   ],
   "source": [
    "# initail location UAVs\n",
    "UAV_position =np.array(UAV_position)"
   ]
  },
  {
   "cell_type": "code",
   "execution_count": 7,
   "metadata": {},
   "outputs": [],
   "source": [
    "# Fixed location User\n",
    "User_position = [\n",
    "(653.8316581607805, -590.3141344883956, 0),\n",
    " (655.7839795019095, 511.39715579708627, 0),\n",
    " (-366.9200930533958, -378.53106855942656, 0),\n",
    " (774.0710077290566, -813.74371579118, 0),\n",
    " (-902.1513920204236, 689.4058695488745, 0),\n",
    " (-887.8742394199635, 629.5122712145035, 0),\n",
    " (-480.4469889568361, -411.7900064526441, 0),\n",
    " (-584.0565231366488, -207.29087777276175, 0),\n",
    " (917.8907259745158, -388.6065319450123, 0),\n",
    " (482.22239122176074, 382.7717524589923, 0),\n",
    "#  (75.08205947,\t-246.6113445,\t0),\n",
    "# (89.08034796,\t93.40797308\t,0),\n",
    "# (539.8534823,\t-160.3015493,\t0),\n",
    "# (139.7089773,\t716.6716587\t,0),\n",
    "# (-569.3566777,\t263.1666404\t,0),\n",
    "# (-90.29446879,\t-288.6084637\t,0),\n",
    "# (-767.5899487,\t-135.3924119,\t0),\n",
    "# (773.8435759\t,-235.8694596\t,0),\n",
    "# (613.2944812\t,608.7494777\t,0),\n",
    "# (204.2851089\t,-171.0078052\t,0),\n",
    "# (386.1443989\t,-926.5117843\t,0),\n",
    "# (-938.0904915\t,99.43896713\t,0),\n",
    "# (-937.1604717,\t-444.6725165\t,0),\n",
    "# (694.8819289\t,668.5820704\t,0),\n",
    "# (834.6212365\t,987.1367586,\t0),\n",
    "# (348.2927666\t,-81.11493568\t,0),\n",
    "# (-955.8690815\t,81.17473736\t,0),\n",
    "# (-545.2280657\t,977.3220921\t,0),\n",
    "# (-700.3981729\t,-579.959419\t,0),\n",
    "# (653.7133739\t,-669.164471\t,0),\n",
    "\n",
    "# (348.2927666, -81.11493568, 0),\n",
    "# (-955.8690815, 81.17473736, 0), \n",
    "# (-545.2280657, 977.3220921, 0), \n",
    "# (-700.3981729, -579.959419, 0), \n",
    "# (653.7133739, -669.164471, 0), \n",
    "# (-506.6846758, -705.9394417, 0), \n",
    "# (896.2006003, 877.8498844, 0), \n",
    "# (125.4253527, -538.2481854, 0), \n",
    "# (990.9906697, -488.4208938, 0), \n",
    "# (189.1648561, 928.506681, 0), \n",
    "# (621.151883, -959.0060838, 0), \n",
    "# (-15.72055139, -965.5771711, 0), \n",
    "# (-873.5564091, -242.8615793, 0), \n",
    "# (294.9378672, 189.1955228, 0), \n",
    "# (281.3142429, -43.80571487, 0),\n",
    "#  (541.9741951, -799.123747, 0), \n",
    "#  (-803.0740695, -803.8707771, 0), \n",
    "#  (429.36194, -131.6410741, 0), \n",
    "#  (462.4096664, -446.1983873, 0), \n",
    "#  (673.7502046, -552.7129857, 0),\n",
    "#    (943.1181771, 138.1393275, 0), \n",
    "#    (592.1487118, -137.7552784, 0), \n",
    "#    (-226.501086, 669.547165, 0), \n",
    "#    (-32.95758572, 221.2279866, 0), \n",
    "#    (-512.2890811, -546.7293695, 0)\n",
    "\n",
    "]"
   ]
  },
  {
   "cell_type": "code",
   "execution_count": null,
   "metadata": {},
   "outputs": [
    {
     "data": {
      "text/plain": [
       "10"
      ]
     },
     "execution_count": 8,
     "metadata": {},
     "output_type": "execute_result"
    }
   ],
   "source": [
    "NUM_User = len(User_position)"
   ]
  },
  {
   "cell_type": "code",
   "execution_count": 9,
   "metadata": {},
   "outputs": [
    {
     "data": {
      "text/plain": [
       "array([[0., 0., 0., 0., 0., 0., 0., 0., 0., 0.],\n",
       "       [0., 0., 0., 0., 0., 0., 0., 0., 0., 0.],\n",
       "       [0., 0., 0., 0., 0., 0., 0., 0., 0., 0.]])"
      ]
     },
     "execution_count": 9,
     "metadata": {},
     "output_type": "execute_result"
    }
   ],
   "source": [
    "#Calculate Distance\n",
    "def distance(x1,y1,z1,x2,y2,z2):\n",
    "    return np.sqrt((x1 - x2)**2 + (y1 - y2)**2 + (z1 - z2)**2)\n",
    "D_n_bs = np.zeros((NUM_UAV + Num_GBS, NUM_User))\n",
    "D_n_bs"
   ]
  },
  {
   "cell_type": "code",
   "execution_count": 10,
   "metadata": {},
   "outputs": [],
   "source": [
    "# # Calcualte distance store in Matrix\n",
    "# UAV_position = np.array([[-483.06727465,   31.1365344 ,  100.        ],\n",
    "#        [ 871.15504185, -927.74625029,  100.        ]])\n",
    "# #UAV1\n",
    "# for j in range(NUM_User):\n",
    "#     uav_pos = UAV_position[0]\n",
    "#     user_pos = User_position[j]\n",
    "#     calculated_distance = distance(x1 = uav_pos[0], y1 = uav_pos[1], z1 = uav_pos[2], x2 = user_pos[0], y2 = user_pos[1], z2 = user_pos[2])\n",
    "    \n",
    "#     # Store the calculated distance in the matrix\n",
    "#     D_n_bs[0][j] = calculated_distance\n",
    "\n",
    "# #UAV2\n",
    "# for j in range(NUM_User):\n",
    "#     uav_pos = UAV_position[1]\n",
    "#     user_pos = User_position[j]\n",
    "#     calculated_distance = distance(x1 = uav_pos[0], y1 = uav_pos[1], z1 = uav_pos[2], x2 = user_pos[0], y2 = user_pos[1], z2 = user_pos[2])\n",
    "#     D_n_bs[1][j] = calculated_distance\n",
    "\n",
    "# #Ground BS\n",
    "# for j in range(NUM_User):\n",
    "#     user_pos = User_position[j]\n",
    "#     calculated_distance = distance(x1 = GBS_location[0], y1 = GBS_location[1], z1 = GBS_location[2], x2 = user_pos[0], y2 = user_pos[1], z2 = user_pos[2])\n",
    "#     D_n_bs[2][j] = calculated_distance    \n",
    "    \n",
    "# # print(\"distance user to all base staion\",D_n_bs)"
   ]
  },
  {
   "cell_type": "code",
   "execution_count": 11,
   "metadata": {},
   "outputs": [
    {
     "name": "stderr",
     "output_type": "stream",
     "text": [
      "c:\\Users\\Sothearath\\anaconda3\\envs\\python3_7\\lib\\site-packages\\ipykernel_launcher.py:6: RuntimeWarning: divide by zero encountered in true_divide\n",
      "  \n"
     ]
    },
    {
     "data": {
      "text/plain": [
       "array([[inf, inf, inf, inf, inf, inf, inf, inf, inf, inf],\n",
       "       [inf, inf, inf, inf, inf, inf, inf, inf, inf, inf],\n",
       "       [inf, inf, inf, inf, inf, inf, inf, inf, inf, inf]])"
      ]
     },
     "execution_count": 11,
     "metadata": {},
     "output_type": "execute_result"
    }
   ],
   "source": [
    "#pathloss, unitless\n",
    "def gain_n(distance):\n",
    "    c = Speed_of_light\n",
    "    f= Carrier_freq\n",
    "    pi = np.pi\n",
    "    return (c/(4*pi*f*distance))**(2)\n",
    "gain_n(D_n_bs)"
   ]
  },
  {
   "cell_type": "code",
   "execution_count": 12,
   "metadata": {},
   "outputs": [],
   "source": [
    "#Generte link selection\n",
    "def generate_matrix_and_assign_users(rows=3, cols=10):\n",
    "    while True:\n",
    "        matrix_selection = np.zeros((rows, cols), dtype=int)\n",
    "        for col in range(cols):\n",
    "            row_idx = np.random.randint(0, rows)\n",
    "            matrix_selection[row_idx, col] = 1\n",
    "        \n",
    "        # Calculate row sums\n",
    "        tmp = np.sum(matrix_selection, axis=1)\n",
    "        if tmp[0] > 0 and tmp[1] > 0:\n",
    "            break\n",
    "    \n",
    "    # Determine user assignments based on the matrix\n",
    "    UAV1_user = np.argwhere(matrix_selection[0] == 1).T[0].tolist()\n",
    "    UAV2_user = np.argwhere(matrix_selection[1] == 1).T[0].tolist()\n",
    "    GBS_user = np.argwhere(matrix_selection[2] == 1).T[0].tolist()\n",
    "    \n",
    "    return matrix_selection, UAV1_user, UAV2_user, GBS_user\n",
    "matrix_selection, UAV1_user, UAV2_user, GBS_user = generate_matrix_and_assign_users()"
   ]
  },
  {
   "cell_type": "code",
   "execution_count": 13,
   "metadata": {},
   "outputs": [],
   "source": [
    "# generate selectionn not yet set constraint\n",
    "import random\n",
    "rows = 3\n",
    "cols = 10\n",
    "while True:\n",
    "    matrix_selection = np.zeros((rows, cols), dtype=int) # matrix\n",
    "    for col in range(cols):\n",
    "        row_idx = np.random.randint(0, rows)\n",
    "        matrix_selection[row_idx, col] = 1\n",
    "    tmp = np.sum(matrix_selection, axis=1)\n",
    "    # print(tmp[0])\n",
    "    if tmp[0] > 0 and tmp[1] > 0:\n",
    "        break\n",
    "UAV1_user = np.argwhere(matrix_selection[0] == 1).T[0].tolist()\n",
    "UAV2_user = np.argwhere(matrix_selection[1] == 1).T[0].tolist()\n",
    "GBS_user = np.argwhere(matrix_selection[2] == 1).T[0].tolist()"
   ]
  },
  {
   "cell_type": "code",
   "execution_count": 14,
   "metadata": {},
   "outputs": [
    {
     "data": {
      "text/plain": [
       "[0.788158772309131, 1.9477862076609742, 2.2759273563026206]"
      ]
     },
     "execution_count": 14,
     "metadata": {},
     "output_type": "execute_result"
    }
   ],
   "source": [
    "# # SINR with NOMA in same coverage of UAV1\n",
    "# num_tslot =24\n",
    "# time_slots = np.arange(0, num_tslot)\n",
    "power_min = 0.1\n",
    "power_max = P_UAV\n",
    "\n",
    "p_u1_level = np.random.uniform(power_min, power_max, len(UAV1_user))\n",
    "p_u1_normalize = p_u1_level / np.sum(p_u1_level) * power_max\n",
    "power_sort = sorted(p_u1_normalize)\n",
    "power_sort"
   ]
  },
  {
   "cell_type": "code",
   "execution_count": null,
   "metadata": {},
   "outputs": [
    {
     "name": "stderr",
     "output_type": "stream",
     "text": [
      "c:\\Users\\Sothearath\\anaconda3\\envs\\python3_7\\lib\\site-packages\\ipykernel_launcher.py:6: RuntimeWarning: divide by zero encountered in true_divide\n",
      "  \n"
     ]
    },
    {
     "data": {
      "text/plain": [
       "([inf, inf, inf], [3, 6, 9])"
      ]
     },
     "execution_count": 16,
     "metadata": {},
     "output_type": "execute_result"
    }
   ],
   "source": [
    "# SINR\n",
    "def noma_sinr(channel_conditions, selected_users, powers, transmitter_id):\n",
    "    if not selected_users:\n",
    "        return [], []\n",
    "    \n",
    "    gains = [channel_conditions[transmitter_id, user] for user in selected_users]\n",
    "    # Sort users by channel gain (strongest first)\n",
    "    sorted_indices = np.argsort(gains)[::-1]  # Descending order\n",
    "    sorted_users = [selected_users[i] for i in sorted_indices]\n",
    "    sorted_gains = [gains[i] for i in sorted_indices]\n",
    "    sinrs = []\n",
    "    for i, user in enumerate(sorted_indices):\n",
    "        interference = 0\n",
    "        sinr = (powers[user] * sorted_gains[user]) / (AWGN_W + interference)\n",
    "        sinrs.append(sinr)\n",
    "    \n",
    "    return sinrs, selected_users\n",
    "sinrs = noma_sinr(gain_n(D_n_bs), UAV1_user, power_sort, 0)"
   ]
  },
  {
   "cell_type": "code",
   "execution_count": 17,
   "metadata": {},
   "outputs": [
    {
     "data": {
      "text/plain": [
       "array([inf, inf, inf])"
      ]
     },
     "execution_count": 17,
     "metadata": {},
     "output_type": "execute_result"
    }
   ],
   "source": [
    "#Data rate\n",
    "num_user = NUM_User\n",
    "sorted_users = sinrs[1]\n",
    "sorted_users_sinr = sinrs[0]\n",
    "def calculate_transmission_rate(sinr, num_user):\n",
    "    \"\"\"Calculate achievable rate using Shannon capacity\"\"\"\n",
    "    if num_user == 0:\n",
    "        num_user = 1\n",
    "    # print(\"bandwidth\",int(bandwidth))\n",
    "    # print(\"bandwidth for users\",int(bandwidth/num_user))\n",
    "    return (int(bandwidth/num_user) * np.log2(1 + sinr))/1e6 # MHz\n",
    "\n",
    "rate_n = calculate_transmission_rate(np.array(sorted_users_sinr), 1)\n",
    "rate_n"
   ]
  },
  {
   "cell_type": "code",
   "execution_count": 19,
   "metadata": {},
   "outputs": [],
   "source": [
    "#Data rate from transformer peak 16PM\n",
    "# 10 user\n",
    "traffic_data = np.array([ 8.795845 ,  4.476116 ,  5.5037837,  6.0243654, 12.920729 ,\n",
    "        5.5970373,  6.0550256,  4.872516 ,  7.577386 ,  9.967498 ])\n",
    "# # #15 user\n",
    "# traffic_data = np.array([14.2345, 4.7710037, 7.6004195, 7.6562877, 22.904835, 10.31743,\n",
    "#                          10.02901, 10.140568, 13.525869, 17.060368, 20.13406, 3.3490102, \n",
    "#                          17.419847, 15.829944, 6.5886827 ])\n",
    "# 20 user\n",
    "# traffic_data = np.array([15.045018, 6.545699, 7.0056453, 7.0192256, 26.408241, 9.260441, \n",
    "#                          10.931942, 8.048492, 12.15611, 15.898077, 19.099787, 4.9521737,\n",
    "#                            17.933542, 14.467922, 9.955734, 13.156038, 21.471113, 10.216565, 8.602531, 17.791065])\n",
    "\n",
    "#25 user\n",
    "# traffic_data = np.array([14.101378, 6.327937, 6.9734707, 7.705143, 24.17083, 8.45224, 10.937698,\n",
    "#                           7.165816, 13.620338, 16.299187, 21.602406, 4.3687615, 18.788303, 16.177567, \n",
    "#                           8.267505, 15.565486, 23.637806, 11.268315, 8.559526, 16.202307, 17.567959, 23.138298, \n",
    "#                           19.848198, 4.852388, 10.035355])\n",
    "\n",
    "# 30 user\n",
    "# traffic_data = np.array([13.730608, 5.326337, 6.305037, 8.3221855, 24.156334, 9.056003, 11.426689, 11.308687, \n",
    "#                          13.707179, 16.739891, 22.561272, 4.2011957, 16.53558, 13.905987, 4.317765, 14.405717, \n",
    "#                          23.871864, 11.336344, 9.031543, 19.897724, 16.41292, 19.279444, 18.578587, 5.886368, 8.510113,\n",
    "#                            8.288387, 10.033254, 18.78224, 12.353946, 24.130177])\n",
    "\n",
    "# #35 user\n",
    "# traffic_data = np.array([14.551269, 2.4869118, 7.914753, 9.50686, 23.704391, 9.402044, 9.980332, 9.956493, 13.618713,\n",
    "#                          15.893503, 20.682552, 4.5388284, 17.523222, 14.761156, 8.493217, 10.834621, 24.060396, 10.211243,\n",
    "#                            8.801832, 16.972355, 17.079834, 21.272535, 17.4074, 5.794155, 7.7954416, 8.966643, 10.05812,\n",
    "#                              22.446507, 15.21755, 24.476093, 13.086027, 19.314144, 10.117991, 12.043155, 21.12344])\n",
    "#40 user\n",
    "# traffic_data = np.array([14.170919, 5.256075, 4.2615056, 9.661415, 20.51247, 9.904575, 10.544804, 8.587675, 16.201693, \n",
    "#                          12.611048, 17.935993, 5.0585704, 15.617003, 19.499825, 6.3576164, 19.835102, 26.356953, 9.419077,\n",
    "#                            9.778795, 16.90524, 12.497952, 24.426462, 22.003967, 7.1397624, 10.289082, 8.632352, 11.458095, \n",
    "#                            22.91798, 13.322406, 24.80308, 9.222264, 17.276176, 8.940344, 8.998562, 18.510359, 11.283395, \n",
    "#                            7.9848123, 13.146252, 15.70726, 10.5147915])\n",
    "# # 45 user\n",
    "# traffic_data = np.array([11.921708, 4.3001447, 6.8346596, 10.666861, 21.913523, 10.589199, 10.952633, 9.787896, 15.623008, 14.880914, 19.550737, 6.4365244, 15.868759, 13.62606, 7.2471952, 18.143068, 25.244741, 12.1040325, 8.986678, 13.193938, 18.694275, 24.826643, 17.967482, 7.5215654, 8.97151, 8.462538, 10.938684, 25.565706, 12.199853, 22.386307, 12.984961, 18.559704, 6.835905, 10.395916, 22.934738, 11.038618, 8.2403555, 17.415693, 13.264544, 14.211067, 15.42135, 3.989012, 7.501359, 4.717387, 9.741643])\n",
    "\n",
    "# #50 user\n",
    "# traffic_data = np.array([13.313988, 4.538864, 4.9833035, 8.513247, 21.226805, 9.019811, 8.953447, 9.572313, 15.085637, 12.080082, 17.517796, 4.90758, 15.619964, 16.427397, 7.404664, 19.768198, 27.941565, 11.174896, 8.618282, 17.66649, 17.223652, 25.9064, 19.717094, 8.535065, 9.455999, 9.289558, 9.6282, 23.934069, 11.43643, 18.710228, 13.685679, 18.601494, 7.499061, 12.105911, 18.863745, 10.410547, 8.665834, 15.006658, 16.399153, 20.745806, 16.539474, 5.3731833, 8.492131, 5.706471, 9.713694, 17.71586, 10.781321, 13.386343, 6.3944697, 14.172069])\n",
    "\n",
    "# #55 user\n",
    "# traffic_data = np.array([13.272955, 4.6569166, 6.310929, 9.352332, 24.504728, 8.092604, 9.341539, 7.586633, 14.252092, 11.055666, 21.171976, 5.055204, 16.17813, 14.233915, 7.48904, 14.834842, 11.905375, 3.1923435, 9.0494585, 10.609196, 20.49045, 24.30129, 13.64981, 5.156934, 9.900986, 9.608969, 12.771944, 22.892275, 7.6688952, 27.643574, 7.0202413, 21.10862, 11.256212, 11.553849, 15.29789, 11.981127, 8.801514, 16.394041, 11.135079, 11.298226, 15.519503, 5.8644247, 7.9372535, 5.8593163, 11.088202, 20.488174, 10.773608, 16.598585, 3.9713507, 14.667537, 17.092442, 13.666996, 14.385899, 4.3800526, 10.344189])\n"
   ]
  },
  {
   "cell_type": "code",
   "execution_count": 20,
   "metadata": {},
   "outputs": [],
   "source": [
    "# Data rate from moving average peah 16 PM\n",
    "\n",
    "# 10 user\n",
    "# traffic_data = np.array([16.35, 5.30, 8.94, 12.44, 27.92, 13.28, 13.28, 12.41, 15.65, 20.27])\n",
    "\n",
    "#15 user\n",
    "# traffic_data = np.array([16.35, 5.30, 8.94, 12.44, 27.92, 13.28, 13.28, 12.41, 15.65, 20.27, 20.56, 6.99, 21.55, 22.67, 12.15])\n",
    "\n",
    "# # 20 user\n",
    "# traffic_data = np.array([16.35, 5.30, 8.94, 12.44, 27.92, 13.28, 13.28, 12.41, 15.65, 20.27, 20.56, 6.99, 21.55, 22.67, 12.15, 35.11, 25.61, 16.23, 11.25, 23.34])\n",
    "\n",
    "#25 user\n",
    "# traffic_data = np.array([16.35, 5.30, 8.94, 12.44, 27.92, 13.28, 13.28, 12.41, 15.65, 20.27, 20.56, 6.99, 21.55, 22.67, 12.15, 35.11, 25.61, 16.23, 11.25, 23.34, 23.95, 28.74, 21.93, 23.05, 16.15])\n",
    "\n",
    "# # 30 user\n",
    "# traffic_data = np.array([16.35, 5.30, 8.94, 12.44, 27.92, 13.28, 13.28, 12.41, 15.65, 20.27, 20.56, 6.99, 21.55, 22.67, 12.15, 35.11, 25.61, 16.23, 11.25, 23.34, 23.95, 28.74, 21.93, 23.05, 16.15, 25.68, 16.47, 12.21, 16.57, 13.92])"
   ]
  },
  {
   "cell_type": "code",
   "execution_count": 21,
   "metadata": {},
   "outputs": [],
   "source": [
    "# data_predictions = np.tile(predictions, (10, 1))  # row 10 users, column 24 hours\n",
    "# print(data_predictions)\n"
   ]
  },
  {
   "cell_type": "code",
   "execution_count": 22,
   "metadata": {},
   "outputs": [],
   "source": [
    "# selection data of group user\n",
    "# request_rate = predictions\n",
    "# num_tslot = 24\n",
    "# num_user = NUM_User\n",
    "# user_data = []\n",
    "\n",
    "# for i in range (num_tslot):\n",
    "#     data_tslot = request_rate[:,i][sorted_users]\n",
    "#     user_data.append(data_tslot)\n",
    "# user_data = np.array(user_data)\n",
    "# user_data"
   ]
  },
  {
   "cell_type": "code",
   "execution_count": 23,
   "metadata": {},
   "outputs": [],
   "source": [
    "action_raw = [0.7695283, 0.12465111, -0.6061603, 1.0, 1.0, 1.0, 0.804409, 1.0, 0.747946, -0.5200442,0.7695283, 0.12465111, -0.6061603, 1.0, 1.0, 1.0, 0.804409, 1.0, 0.747946, -0.5200442,0.7695283, 0.12465111, -0.6061603, 1.0, 1.0, 1.0, 0.804409, 1.0, 0.747946, -0.5200442,0.7695283, 0.12465111, -0.6061603, 1.0, 1.0, 1.0, 0.804409, 1.0, 0.747946, -0.5200442, 1.0, 1.0, 1.0, 1.0, -0.09169996, 1.0, -0.36757523, 1.0, -0.3259506, -0.36846933, 1.0, 1.0, 1.0, 1.0,\n",
    "             0.7695283, 0.12465111, -0.6061603, 1.0, 1.0, 1.0, 0.804409, 1.0, 0.747946, -0.5200442,0.7695283, 0.12465111, -0.6061603, 1.0, 1.0, 1.0, 0.804409, 1.0, 0.747946, -0.5200442,0.7695283, 0.12465111, -0.6061603, 1.0, 1.0, 1.0, 0.804409, 1.0, 0.747946, -0.5200442,0.7695283, 0.12465111, -0.6061603, 1.0, 1.0, 1.0, 0.804409, 1.0, 0.747946, -0.5200442, 1.0, 1.0, 1.0, 1.0, -0.09169996, 1.0, -0.36757523, 1.0, -0.3259506, -0.36846933, 1.0, 1.0, 1.0, 1.0,]  \n"
   ]
  },
  {
   "cell_type": "code",
   "execution_count": 24,
   "metadata": {},
   "outputs": [
    {
     "data": {
      "text/plain": [
       "108"
      ]
     },
     "execution_count": 24,
     "metadata": {},
     "output_type": "execute_result"
    }
   ],
   "source": [
    "len(action_raw)"
   ]
  },
  {
   "cell_type": "code",
   "execution_count": 25,
   "metadata": {},
   "outputs": [
    {
     "data": {
      "text/plain": [
       "2.0"
      ]
     },
     "execution_count": 25,
     "metadata": {},
     "output_type": "execute_result"
    }
   ],
   "source": [
    "# Scale from DDPG to actual value\n",
    "def actual_power(x):\n",
    "    return (x + 1) * (0.4 / 2) #0.4\n",
    "\n",
    "def actual_band_ratio(x):\n",
    "    return (np.array(x) + 1) / 2\n",
    "\n",
    "def actual_location(x):\n",
    "    return (x * 1000)\n",
    "\n",
    "def actual_selected(x):\n",
    "    return ((x + 1) * (NUM_UAV + Num_GBS - 1))/2\n",
    "actual_selected(action_raw[-1])"
   ]
  },
  {
   "cell_type": "code",
   "execution_count": 26,
   "metadata": {},
   "outputs": [
    {
     "data": {
      "text/plain": [
       "40.70611888041029"
      ]
     },
     "execution_count": 26,
     "metadata": {},
     "output_type": "execute_result"
    }
   ],
   "source": [
    "# Find max Rate\n",
    "max_band_ratio = 1\n",
    "distance_min = 100 #meter\n",
    "P_MAX_user = 0.5011872336272725 \n",
    "max_gain = gain_n(distance_min)\n",
    "max_sinr = ( P_MAX_user* max_gain) / (AWGN_W )\n",
    "max_rate = (max_band_ratio * bandwidth) * np.log2(1 + max_sinr)/1e6 # MHz\n",
    "max_rate"
   ]
  },
  {
   "cell_type": "code",
   "execution_count": 27,
   "metadata": {},
   "outputs": [],
   "source": [
    "#power constrains\n",
    "\n",
    "# Define the max power for the UAV\n",
    "P_max = P_UAV \n",
    "num_users = NUM_User\n",
    "P_min = 0.001  \n",
    "P_max_user = 0.5011872336272725  \n",
    "\n",
    "# Define the scaling function to map DDPG actions (-1 to 1) to power allocations\n",
    "def scale_action_to_power(action, P_min, P_max_user):\n",
    "    return (action + 1) / 2 * (P_max_user - P_min) + P_min\n",
    "\n",
    "# Function to ensure total power does not exceed P_max\n",
    "def control_power_allocation(actions, P_max):\n",
    "    power_allocations = scale_action_to_power(actions, P_min, P_max_user)\n",
    "    total_power = np.sum(power_allocations)\n",
    "    \n",
    "    # Step 3: If total power exceeds P_max, scale down allocations proportionally\n",
    "    if total_power > P_max:\n",
    "        scaling_factor = P_max / total_power\n",
    "        power_allocations = power_allocations * scaling_factor\n",
    "        \n",
    "    return power_allocations\n",
    "\n",
    "# Example DDPG action (output from the DDPG agent)\n",
    "ddpg_actions = np.random.uniform(-1, 1, num_users)  # Random actions for testing\n",
    "\n",
    "# Control the power allocation\n",
    "allocated_power = control_power_allocation(ddpg_actions, P_max)\n",
    "# print(\"allocated_power\",allocated_power)\n",
    "# ddpg_actions = [0.44353443350000005, 0.28553952195000004, 0.1064907265, 0.5, 0.5, 0.5, 0.452080205, 0.5, 0.43824677, 0.127589171]\n",
    "\n",
    "# Print results\n",
    "# print(f\"DDPG Actions: {ddpg_actions}\")\n",
    "# print(f\"Allocated Power (before scaling): {scale_action_to_power(ddpg_actions, P_min, P_max_user)}\")\n",
    "# print(f\"Allocated Power (after scaling): {allocated_power}\")\n",
    "# print(f\"Total Power Allocated: {np.sum(allocated_power)}\")\n"
   ]
  },
  {
   "cell_type": "code",
   "execution_count": 28,
   "metadata": {},
   "outputs": [],
   "source": [
    "# Calculate Energy consumption\n",
    "num_tslot = 24\n",
    "time_slots = np.arange(0, num_tslot)\n",
    "def calculate_com_energy(time_slot,p_tx, data_tx, data_rate):\n",
    "   \n",
    "    opt_time = data_tx / data_rate \n",
    "    \n",
    "    # energy_hov = (hover_power * max(opt_time))  # Watt-s\n",
    "    energy_com = (p_tx * opt_time)           # Watt-s\n",
    "    # print(data_tx, data_rate)\n",
    "    # print(\"energy_sum [watt/s]\",energy_com/3600) # convert to watt-hour\n",
    "    return energy_com ,0 #energy_hov"
   ]
  },
  {
   "cell_type": "code",
   "execution_count": null,
   "metadata": {},
   "outputs": [
    {
     "data": {
      "text/plain": [
       "(-0.05413950787317062, 10.11467293829628, 0.7693382695281502)"
      ]
     },
     "execution_count": 31,
     "metadata": {},
     "output_type": "execute_result"
    }
   ],
   "source": [
    "# Scale UAV: Objective function \n",
    "request_rate = traffic_data\n",
    "def object_function(action):\n",
    "    tmp_action = []\n",
    "    P_max = P_UAV\n",
    "    power_level = [scale_action_to_power(action[i], P_min, P_max_user) for i in range(NUM_User)]\n",
    "    tmp_action = np.array(power_level)\n",
    "    power_allocations = control_power_allocation(tmp_action[:NUM_User], P_max)\n",
    "\n",
    "    # Dynamically extract UAV locations\n",
    "    uav_locations = np.array([actual_location(action[i]) for i in range(NUM_User, NUM_User + 2 * NUM_UAV)])\n",
    "    uav_positions = uav_locations.reshape(NUM_UAV, 2)  # Reshape into (NUM_UAV, 2) -> (x, y) pairs\n",
    "    end_index = min(NUM_User + 2 * NUM_UAV + NUM_User, len(action))\n",
    "    tmp_action = np.concatenate((tmp_action, uav_locations))    \n",
    "    tmp_action = np.concatenate((tmp_action, np.array([actual_selected(action[i]) for i in range(NUM_User + 2 * NUM_UAV, end_index)])))\n",
    "\n",
    "    link_values = tmp_action[NUM_User + 2 * NUM_UAV : end_index]\n",
    "\n",
    "    link_uavs = {uav_idx: [] for uav_idx in range(NUM_UAV)}\n",
    "    link_bs = []\n",
    "\n",
    "    # Track connection counts\n",
    "    MAX_CONNECTIONS = 10\n",
    "    uav_connection_counts = {uav_idx: 0 for uav_idx in range(NUM_UAV)}\n",
    "    bs_connection_count = 0\n",
    "\n",
    "    # Process links with connection limit\n",
    "    for i, value in enumerate(link_values):\n",
    "        for uav_idx in range(NUM_UAV):\n",
    "            if uav_idx <= value < (uav_idx + 1):  \n",
    "                link_uavs[uav_idx].append(i)\n",
    "                break\n",
    "        \n",
    "        if value >= NUM_UAV:  # User connects to the base station\n",
    "            # Check if the base station has reached its connection limit\n",
    "            if bs_connection_count < MAX_CONNECTIONS:\n",
    "                link_bs.append(i)\n",
    "                bs_connection_count += 1\n",
    "            else:\n",
    "                # Base station is full, find the UAV with the lowest user count\n",
    "                min_users_uav = min(uav_connection_counts, key=uav_connection_counts.get)\n",
    "                link_uavs[min_users_uav].append(i)\n",
    "\n",
    "\n",
    "    # link_uavs = {uav_idx: [] for uav_idx in range(NUM_UAV)}\n",
    "    # link_bs = []\n",
    "    # bs_user_count = 0  # Variable to track the number of users connected to the BS\n",
    "\n",
    "    # for i, value in enumerate(link_values):\n",
    "    #     user_assigned = False\n",
    "        \n",
    "    #     # First, try to assign the user to a UAV if possible\n",
    "    #     for uav_idx in range(NUM_UAV):\n",
    "    #         if uav_idx <= value < (uav_idx + 1):\n",
    "    #             link_uavs[uav_idx].append(i)\n",
    "    #             user_assigned = True\n",
    "    #             break\n",
    "        \n",
    "    #         # If the user wasn't assigned to a UAV, check the number of users at the BS\n",
    "    #         if not user_assigned:\n",
    "    #             if bs_user_count < 15:  # If there are less than 15 users at the BS, assign to BS\n",
    "    #                 link_bs.append(i)\n",
    "    #                 bs_user_count += 1\n",
    "    #             else:  # If there are more than 15 users, assign the user to a UAV\n",
    "    #                 # Find an appropriate UAV (you can modify this logic to be more dynamic if needed)\n",
    "    #                 # For simplicity, let's assign the user to the first UAV\n",
    "    #                 # link_uavs[0].append(i)  # This could be adjusted for load balancing\n",
    "    #                 # print(f\"==>>link_uav1: {(len(link_uavs[0]))}\")\n",
    "    #                 # print(f\"==>>link_uav2: {(len(link_uavs[1]))}\")\n",
    "    #                 min_uav_idx = min(range(NUM_UAV), key=lambda uav_idx: len(link_uavs[uav_idx]))\n",
    "    #                 link_uavs[min_uav_idx].append(i)\n",
    "        # print(f\"==>>link_uav: {((link_uavs))}\")\n",
    "    \n",
    "    # link_uavs = {uav_idx: [] for uav_idx in range(NUM_UAV)}\n",
    "    # link_bs = []\n",
    "    \n",
    "    # for i, value in enumerate(link_values):\n",
    "    #     for uav_idx in range(NUM_UAV):\n",
    "    #         if uav_idx <= value < (uav_idx + 1):  # User connects to a specific UAV\n",
    "    #             link_uavs[uav_idx].append(i)\n",
    "    #             break\n",
    "    #     if value >= NUM_UAV:  # User connects to the base station\n",
    "    #         link_bs.append(i)\n",
    "    # print(f\"==>>link_uavs: {(link_uavs)}\")\n",
    "    powers = power_allocations\n",
    "    p_user_uavs = {uav_idx: powers[link_uavs[uav_idx]] for uav_idx in range(NUM_UAV)}\n",
    "    \n",
    "    link_lists = [link_uavs[i] for i in range(NUM_UAV)]\n",
    "    p_user_lists = [p_user_uavs[i][0:len(link_lists[i])] for i in range(NUM_UAV)]\n",
    "    p_user_bs = powers[link_bs]\n",
    "\n",
    "    for uav_id in range(NUM_UAV):\n",
    "        x_uav, y_uav = uav_positions[uav_id]\n",
    "        for j in range(NUM_User):\n",
    "            user_pos = User_position[j]\n",
    "            D_n_bs[uav_id][j] = distance(x1=x_uav, y1=y_uav, z1=UAV_Height, x2=user_pos[0], y2=user_pos[1], z2=user_pos[2])\n",
    "\n",
    "    for j in range(NUM_User):\n",
    "        user_pos = User_position[j]\n",
    "        D_n_bs[NUM_UAV][j] = distance(x1=GBS_location[0], y1=GBS_location[1], z1=GBS_location[2], x2=user_pos[0], y2=user_pos[1], z2=user_pos[2])\n",
    "\n",
    "    channel_gains = gain_n(D_n_bs)\n",
    "    \n",
    "    sinr_uavs = [noma_sinr(channel_gains, link_lists[i], p_user_lists[i], i) for i in range(NUM_UAV)]\n",
    "    sinr_bs = noma_sinr(channel_gains, link_bs, p_user_bs, NUM_UAV)\n",
    "    rate_mbps_uavs = [calculate_transmission_rate(np.array(sinr_uavs[i][0]), len(link_lists[i])) for i in range(NUM_UAV)]\n",
    "    rate_mbps_bs = calculate_transmission_rate(np.array(sinr_bs[0]), len(link_bs))\n",
    "    # sum_rate = sum([np.sum(rate) for rate in rate_mbps_uavs]) + np.sum(rate_mbps_bs)\n",
    "    requested_rates_uavs = [request_rate[sinr_uavs[i][1]] for i in range(NUM_UAV)]\n",
    "    energy_uavs = [calculate_com_energy(time_slots[0], p_user_lists[i], requested_rates_uavs[i], rate_mbps_uavs[i]) if link_lists[i] else ([0], [0]) for i in range(NUM_UAV)]\n",
    "    \n",
    "    energy_com_uavs = [energy_uavs[i][0] for i in range(NUM_UAV)]\n",
    "    energy_hov_uavs = [0 for _ in range(NUM_UAV)]\n",
    "    energy_mov_uavs = [0.00 for _ in range(NUM_UAV)]\n",
    "    \n",
    "    sum_energy_uavs = [energy_mov_uavs[i] + np.sum(energy_com_uavs[i]) + energy_hov_uavs[i] for i in range(NUM_UAV)]\n",
    "    sum_energy = sum(sum_energy_uavs)\n",
    "    check_minrate = [*rate_mbps_bs] + [rate for sublist in rate_mbps_uavs for rate in sublist]\n",
    "    UAV_energy = sum_energy_uavs\n",
    "\n",
    "    avg_rate = np.mean(check_minrate)\n",
    "    avg_energy = sum_energy / NUM_UAV\n",
    "    max_energy = P_MAX_user * 5\n",
    "    rate_normalize = avg_rate * (1 / int(max_rate))\n",
    "    energy_normalize = - (avg_energy / max_energy)\n",
    "    result_obj_normalize = (rate_normalize) +  (energy_normalize)\n",
    "    return result_obj_normalize, avg_rate, avg_energy\n",
    "    \n",
    "object_function(action_raw)\n"
   ]
  },
  {
   "cell_type": "code",
   "execution_count": 32,
   "metadata": {},
   "outputs": [
    {
     "data": {
      "text/plain": [
       "numpy.ndarray"
      ]
     },
     "execution_count": 32,
     "metadata": {},
     "output_type": "execute_result"
    }
   ],
   "source": [
    "# state\n",
    "def get_state():  \n",
    "  state_list =  np.vstack([gain_n(D_n_bs), request_rate])\n",
    "  return np.array(state_list)\n",
    "type(get_state().flatten())"
   ]
  },
  {
   "cell_type": "code",
   "execution_count": 33,
   "metadata": {},
   "outputs": [
    {
     "data": {
      "text/plain": [
       "function"
      ]
     },
     "execution_count": 33,
     "metadata": {},
     "output_type": "execute_result"
    }
   ],
   "source": [
    "type(get_state)"
   ]
  },
  {
   "cell_type": "code",
   "execution_count": 34,
   "metadata": {},
   "outputs": [
    {
     "data": {
      "text/plain": [
       "24"
      ]
     },
     "execution_count": 34,
     "metadata": {},
     "output_type": "execute_result"
    }
   ],
   "source": [
    "# action\n",
    "agent = Agent(state_size = (Num_GBS + NUM_UAV)*num_user + num_user, action_size = 2 * num_user + 2 * NUM_UAV, random_seed=1234)\n",
    "# (3 * num_user) + (2 * NUM_UAV - 1)\n",
    "2 * num_user + 2* NUM_UAV"
   ]
  },
  {
   "cell_type": "code",
   "execution_count": 35,
   "metadata": {},
   "outputs": [
    {
     "name": "stderr",
     "output_type": "stream",
     "text": [
      "c:\\Users\\Sothearath\\anaconda3\\envs\\python3_7\\lib\\site-packages\\torch\\nn\\functional.py:1956: UserWarning: nn.functional.tanh is deprecated. Use torch.tanh instead.\n",
      "  warnings.warn(\"nn.functional.tanh is deprecated. Use torch.tanh instead.\")\n"
     ]
    },
    {
     "name": "stdout",
     "output_type": "stream",
     "text": [
      "Episode 1/100, Score: -70.07766017028192, Avg Rate: 3.4936, Avg Energy: 3.7311\n",
      "Episode 11/100, Score: -3.0234005513688977, Avg Rate: 7.1267, Avg Energy: 0.5980\n",
      "Episode 21/100, Score: 1.1353164703355032, Avg Rate: 6.7530, Avg Energy: 0.3662\n",
      "Episode 31/100, Score: 4.6327826480027365, Avg Rate: 6.7392, Avg Energy: 0.1900\n",
      "Episode 41/100, Score: 1.7462423541222232, Avg Rate: 6.7503, Avg Energy: 0.3354\n",
      "Episode 51/100, Score: 1.7714890178548257, Avg Rate: 6.7880, Avg Energy: 0.3365\n",
      "Episode 61/100, Score: 1.4915361170370842, Avg Rate: 6.8107, Avg Energy: 0.3519\n",
      "Episode 71/100, Score: 1.357081531204876, Avg Rate: 6.7639, Avg Energy: 0.3557\n",
      "Episode 81/100, Score: -3.573801574563113, Avg Rate: 7.2382, Avg Energy: 0.6326\n",
      "Episode 91/100, Score: 5.714708688353154, Avg Rate: 6.8886, Avg Energy: 0.1451\n"
     ]
    }
   ],
   "source": [
    "n_episodes=100\n",
    "max_t=50\n",
    "print_every=10\n",
    "scores_deque = deque(maxlen=print_every)\n",
    "scores = []\n",
    "score_list = []\n",
    "all_action = []\n",
    "TOTAL_Rate = []\n",
    "TOTAL_Energy = []\n",
    "TOTAL_Reward = []\n",
    "\n",
    "for i_episode in range(n_episodes):\n",
    "    # Initialize environment and agent\n",
    "    state = get_state().flatten()\n",
    "    agent.reset()\n",
    "    score = 0\n",
    "    Rate = []\n",
    "    Energys = []\n",
    "    Reward = []\n",
    "\n",
    "    for t in range(max_t):\n",
    "        # Select action\n",
    "        action = agent.act(state)\n",
    "        # print(\"action\", action)\n",
    "        # Environment interaction\n",
    "        reward, rate, energy = object_function(action)\n",
    "        next_state = get_state().flatten()\n",
    "        send_reward = reward\n",
    "        score += reward\n",
    "\n",
    "        # Log metrics\n",
    "        score_list.append(reward)\n",
    "        # Rate.append(rate)\n",
    "        Rate.append(np.mean(rate))\n",
    "        Energys.append(np.mean(energy))\n",
    "        Reward.append(np.mean(reward))\n",
    "        #Energys.append(energy)\n",
    "        # Train agent\n",
    "        done = False\n",
    "        # Dynamic done condition (if needed)\n",
    "        # if any(value > CRITICAL_DELAY for value in DELAY):\n",
    "        #     send_reward = -1e6\n",
    "        #     done = True\n",
    "        # print(\"state__before\",state.shape)\n",
    "        \n",
    "        all_action.append(action)\n",
    "        agent.step(state, action, send_reward, next_state, done)\n",
    "        state = next_state\n",
    "\n",
    "        if done:\n",
    "            break\n",
    "    \n",
    "    # # Log results after each episode\n",
    "    TOTAL_Rate.append(np.mean(Rate))\n",
    "    TOTAL_Energy.append(np.mean(Energys))\n",
    "    TOTAL_Reward.append(np.mean(Reward))\n",
    "    # TOTAL_Rate.append(Rate)\n",
    "    # TOTAL_Energy.append(Energys)\n",
    "    scores.append(score)\n",
    "\n",
    "    # Print episode summary\n",
    "    if (i_episode + 10) % print_every == 0:\n",
    "        print(f\"Episode {i_episode + 1}/{n_episodes}, \"\n",
    "              f\"Score: {score}, \"\n",
    "              f\"Avg Rate: {np.mean(Rate):.4f}, \"\n",
    "              f\"Avg Energy: {np.mean(Energys):.4f}\")\n"
   ]
  },
