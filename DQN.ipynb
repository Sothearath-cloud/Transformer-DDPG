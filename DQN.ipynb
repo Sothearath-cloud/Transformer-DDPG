{
 "cells": [
  {
   "cell_type": "code",
   "execution_count": 1,
   "metadata": {},
   "outputs": [],
   "source": [
    "import math # cos() for Rastrigin\n",
    "import copy # array-copying convenience\n",
    "import sys # max float\n",
    "import numpy as np\n",
    "import sympy as sp\n",
    "from sympy.plotting import plot\n",
    "from sympy.plotting import plot3d\n",
    "import matplotlib.pyplot as plt\n",
    "import time\n",
    "import numpy as np\n",
    "import matplotlib.pyplot as plt\n",
    "from mpl_toolkits.mplot3d import Axes3D\n",
    "import torch\n",
    "import torch.nn as nn\n",
    "import torch.optim as optim\n",
    "from collections import deque\n",
    "import random\n",
    "from dqn_agent_NEW import Agent\n",
    "import gym\n",
    "from gym.spaces import Box, Discrete, MultiDiscrete"
   ]
  },
  {
   "cell_type": "code",
   "execution_count": 2,
   "metadata": {},
   "outputs": [
    {
     "name": "stdout",
     "output_type": "stream",
     "text": [
      "Num GPUs Available: 0\n"
     ]
    }
   ],
   "source": [
    "import tensorflow as tf\n",
    "print(\"Num GPUs Available:\", len(tf.config.list_physical_devices('GPU')))"
   ]
  },
  {
   "cell_type": "code",
   "execution_count": 3,
   "metadata": {},
   "outputs": [],
   "source": [
    "## parameter/ constant\n",
    "bandwidth = 1e6  # [hz]\n",
    "Speed_of_light = 3e8  # [m/s]\n",
    "Carrier_freq = 2e9  # [hz]=1/s\n",
    "GBS_location = [0,0,20] #[m] 20\n",
    "Num_GBS = 1\n",
    "# NUM_User = 10\n",
    "NUM_UAV = 2\n",
    "Cell_Radius = 1000 #[m]\n",
    "UAV_Height = 100#100 #[m] \"Cell-Edge User Offloading via Flying UAV in Non-Uniform Heterogeneous Cellular Networks,\" in IEEE Transactions on Wireless Communications, vol. 19, no. 4, pp. 2411-2426, April 2020, doi: 10.1109/TWC.2020.2964656.\n",
    "P_UAV = 10 **(37 / 10) / 1000 #[watt] \n",
    "P_GBS = 10 **(40 / 10) / 1000 #[watt]\n",
    "P_MAX = 0.4 # 26dbm, user\n",
    "# P_MIN = 0.1 # 20 dbm\n",
    "epsilon = 0.38 # power amplifier efficiency\n",
    "AWGN_DBM = -174 #[dBm]\n",
    "AWGN_W = 10 ** (AWGN_DBM / 10) / 1000\n",
    "air_density = 1.225 # Air density at sea level (kg/m³)\n",
    "g = 9.81            # Gravitational acceleration (m/s²)\n",
    "mass = 0.5           # Mass of UAV in kg\n",
    "radius = 0.2         # Rotor radius in meters\n",
    "num_rotors = 4\n",
    "P_MOVE =10 #[watt]\n",
    "V = 20 # m/s\n"
   ]
  },
  {
   "cell_type": "code",
   "execution_count": 4,
   "metadata": {},
   "outputs": [],
   "source": [
    "def init_uav_positions(NUM_UAV, UAV_Height, random_position):\n",
    "\n",
    "    UAV_2D = [random_position() for _ in range(NUM_UAV)]\n",
    "    UAV_positions = []\n",
    "    \n",
    "    for i in range(NUM_UAV):\n",
    "        temp_list = list(UAV_2D[i])\n",
    "        temp_list[2] = UAV_Height\n",
    "        updated_tuple = tuple(temp_list)\n",
    "        # print(temp_list)\n",
    "        UAV_positions.append(updated_tuple)\n",
    "    \n",
    "    return UAV_positions"
   ]
  },
  {
   "cell_type": "code",
   "execution_count": 5,
   "metadata": {},
   "outputs": [],
   "source": [
    "# Fixed location User\n",
    "User_position = [\n",
    "(653.8316581607805, -590.3141344883956, 0),\n",
    " (655.7839795019095, 511.39715579708627, 0),\n",
    " (-366.9200930533958, -378.53106855942656, 0),\n",
    " (774.0710077290566, -813.74371579118, 0),\n",
    " (-902.1513920204236, 689.4058695488745, 0),\n",
    " (-887.8742394199635, 629.5122712145035, 0),\n",
    " (-480.4469889568361, -411.7900064526441, 0),\n",
    " (-584.0565231366488, -207.29087777276175, 0),\n",
    " (917.8907259745158, -388.6065319450123, 0),\n",
    " (482.22239122176074, 382.7717524589923, 0),\n",
    " (75.08205947,\t-246.6113445,\t0),\n",
    "(89.08034796,\t93.40797308\t,0),\n",
    "(539.8534823,\t-160.3015493,\t0),\n",
    "(139.7089773,\t716.6716587\t,0),\n",
    "(-569.3566777,\t263.1666404\t,0),\n",
    "(-90.29446879,\t-288.6084637\t,0),\n",
    "(-767.5899487,\t-135.3924119,\t0),\n",
    "(773.8435759\t,-235.8694596\t,0),\n",
    "(613.2944812\t,608.7494777\t,0),\n",
    "(204.2851089\t,-171.0078052\t,0),\n",
    "# (386.1443989\t,-926.5117843\t,0),\n",
    "# (-938.0904915\t,99.43896713\t,0),\n",
    "# (-937.1604717,\t-444.6725165\t,0),\n",
    "# (694.8819289\t,668.5820704\t,0),\n",
    "# (834.6212365\t,987.1367586,\t0),\n",
    "# (348.2927666\t,-81.11493568\t,0),\n",
    "# (-955.8690815\t,81.17473736\t,0),\n",
    "# (-545.2280657\t,977.3220921\t,0),\n",
    "# (-700.3981729\t,-579.959419\t,0),\n",
    "# (653.7133739\t,-669.164471\t,0),\n",
    "]"
   ]
  },
  {
   "cell_type": "code",
   "execution_count": 6,
   "metadata": {},
   "outputs": [
    {
     "data": {
      "text/plain": [
       "20"
      ]
     },
     "execution_count": 6,
     "metadata": {},
     "output_type": "execute_result"
    }
   ],
   "source": [
    "NUM_User = len(User_position)\n",
    "NUM_User"
   ]
  },
  {
   "cell_type": "code",
   "execution_count": 7,
   "metadata": {},
   "outputs": [],
   "source": [
    "#Calculate Distance\n",
    "def distance(x1,y1,z1,x2,y2,z2):\n",
    "    return np.sqrt((x1 - x2)**2 + (y1 - y2)**2 + (z1 - z2)**2)\n",
    "D_n_bs = np.zeros((NUM_UAV + Num_GBS, NUM_User))"
   ]
  },
  {
   "cell_type": "code",
   "execution_count": 8,
   "metadata": {},
   "outputs": [],
   "source": [
    "#pathloss, unitless\n",
    "def gain_n(distance):\n",
    "    c = Speed_of_light\n",
    "    f= Carrier_freq\n",
    "    pi = np.pi\n",
    "    return (c/(4*pi*f*distance))**(2)"
   ]
  },
  {
   "cell_type": "code",
   "execution_count": 9,
   "metadata": {},
   "outputs": [],
   "source": [
    "#Generte link selection\n",
    "def generate_matrix_and_assign_users(rows=3, cols=10):\n",
    "    while True:\n",
    "        matrix_selection = np.zeros((rows, cols), dtype=int)\n",
    "        for col in range(cols):\n",
    "            row_idx = np.random.randint(0, rows)\n",
    "            matrix_selection[row_idx, col] = 1\n",
    "        \n",
    "        # Calculate row sums\n",
    "        tmp = np.sum(matrix_selection, axis=1)\n",
    "        if tmp[0] > 0 and tmp[1] > 0:\n",
    "            break\n",
    "    \n",
    "    # Determine user assignments based on the matrix\n",
    "    UAV1_user = np.argwhere(matrix_selection[0] == 1).T[0].tolist()\n",
    "    UAV2_user = np.argwhere(matrix_selection[1] == 1).T[0].tolist()\n",
    "    GBS_user = np.argwhere(matrix_selection[2] == 1).T[0].tolist()\n",
    "    \n",
    "    return matrix_selection, UAV1_user, UAV2_user, GBS_user\n",
    "matrix_selection, UAV1_user, UAV2_user, GBS_user = generate_matrix_and_assign_users()\n",
    "\n",
    "# generate selectionn not yet set constraint\n",
    "import random\n",
    "rows = 3\n",
    "cols = 10\n",
    "while True:\n",
    "    matrix_selection = np.zeros((rows, cols), dtype=int) # matrix\n",
    "    for col in range(cols):\n",
    "        row_idx = np.random.randint(0, rows)\n",
    "        matrix_selection[row_idx, col] = 1\n",
    "    tmp = np.sum(matrix_selection, axis=1)\n",
    "    # print(tmp[0])\n",
    "    if tmp[0] > 0 and tmp[1] > 0:\n",
    "        break\n",
    "UAV1_user = np.argwhere(matrix_selection[0] == 1).T[0].tolist()\n",
    "UAV2_user = np.argwhere(matrix_selection[1] == 1).T[0].tolist()\n",
    "GBS_user = np.argwhere(matrix_selection[2] == 1).T[0].tolist()"
   ]
  },
  {
   "cell_type": "code",
   "execution_count": 10,
   "metadata": {},
   "outputs": [],
   "source": [
    "P_MIN = 0.001\n",
    "P_MAX = P_UAV\n",
    "P_MAX_user = P_MAX/NUM_User"
   ]
  },
  {
   "cell_type": "code",
   "execution_count": 11,
   "metadata": {},
   "outputs": [
    {
     "name": "stderr",
     "output_type": "stream",
     "text": [
      "c:\\Users\\Sothearath\\anaconda3\\envs\\python3_7\\lib\\site-packages\\ipykernel_launcher.py:6: RuntimeWarning: divide by zero encountered in true_divide\n",
      "  \n"
     ]
    }
   ],
   "source": [
    "p_u1_level = np.random.uniform(P_MIN, P_MAX, len(UAV1_user))\n",
    "p_u1_normalize = p_u1_level / np.sum(p_u1_level) * P_MAX\n",
    "power_sort = sorted(p_u1_normalize)\n",
    "# SINR\n",
    "def noma_sinr(channel_conditions, selected_users, powers, transmitter_id):\n",
    "    if not selected_users:\n",
    "        return [], []\n",
    "    \n",
    "    gains = [channel_conditions[transmitter_id, user] for user in selected_users]\n",
    "    # Sort users by channel gain (strongest first)\n",
    "    sorted_indices = np.argsort(gains)[::-1]  # Descending order\n",
    "    sorted_users = [selected_users[i] for i in sorted_indices]\n",
    "    sorted_gains = [gains[i] for i in sorted_indices]\n",
    "    sinrs = []\n",
    "    for i, user in enumerate(sorted_indices):\n",
    "        interference = 0\n",
    "        sinr = (powers[user] * sorted_gains[user]) / (AWGN_W + interference)\n",
    "        sinrs.append(sinr)\n",
    "    \n",
    "    return sinrs, selected_users\n",
    "sinrs = noma_sinr(gain_n(D_n_bs), UAV1_user, power_sort, 0)"
   ]
  },
  {
   "cell_type": "code",
   "execution_count": 12,
   "metadata": {},
   "outputs": [],
   "source": [
    "#Data rate\n",
    "num_user = NUM_User\n",
    "sorted_users = sinrs[1]\n",
    "sorted_users_sinr = sinrs[0]\n",
    "def calculate_transmission_rate(sinr, num_user):\n",
    "    \"\"\"Calculate achievable rate using Shannon capacity\"\"\"\n",
    "    if num_user == 0:\n",
    "        num_user = 1\n",
    "    # print(\"bandwidth\",int(bandwidth))\n",
    "    # print(\"bandwidth for users\",int(bandwidth/num_user))\n",
    "    return (int(bandwidth/num_user) * np.log2(1 + sinr))/1e6 # MHz\n",
    "\n",
    "rate_n = calculate_transmission_rate(np.array(sorted_users_sinr), 1)"
   ]
  },
  {
   "cell_type": "code",
   "execution_count": 13,
   "metadata": {},
   "outputs": [],
   "source": [
    "# # 10 user\n",
    "# traffic_data = np.array([ 8.795845 ,  4.476116 ,  5.5037837,  6.0243654, 12.920729 ,\n",
    "#         5.5970373,  6.0550256,  4.872516 ,  7.577386 ,  9.967498 ])\n",
    "# # #15 user\n",
    "# traffic_data = np.array([14.2345, 4.7710037, 7.6004195, 7.6562877, 22.904835, 10.31743,\n",
    "#                          10.02901, 10.140568, 13.525869, 17.060368, 20.13406, 3.3490102, \n",
    "#                          17.419847, 15.829944, 6.5886827 ])\n",
    "# 20 user\n",
    "traffic_data = np.array([15.045018, 6.545699, 7.0056453, 7.0192256, 26.408241, 9.260441, \n",
    "                         10.931942, 8.048492, 12.15611, 15.898077, 19.099787, 4.9521737,\n",
    "                           17.933542, 14.467922, 9.955734, 13.156038, 21.471113, 10.216565, 8.602531, 17.791065])\n",
    "\n",
    "# #25 user\n",
    "# traffic_data = np.array([14.101378, 6.327937, 6.9734707, 7.705143, 24.17083, 8.45224, 10.937698,\n",
    "#                           7.165816, 13.620338, 16.299187, 21.602406, 4.3687615, 18.788303, 16.177567, \n",
    "#                           8.267505, 15.565486, 23.637806, 11.268315, 8.559526, 16.202307, 17.567959, 23.138298, \n",
    "#                           19.848198, 4.852388, 10.035355])\n",
    "\n",
    "# # 30 user\n",
    "# traffic_data = np.array([13.730608, 5.326337, 6.305037, 8.3221855, 24.156334, 9.056003, 11.426689, 11.308687, \n",
    "#                          13.707179, 16.739891, 22.561272, 4.2011957, 16.53558, 13.905987, 4.317765, 14.405717, \n",
    "#                          23.871864, 11.336344, 9.031543, 19.897724, 16.41292, 19.279444, 18.578587, 5.886368, 8.510113,\n",
    "#                            8.288387, 10.033254, 18.78224, 12.353946, 24.130177])"
   ]
  },
  {
   "cell_type": "code",
   "execution_count": 14,
   "metadata": {},
   "outputs": [
    {
     "data": {
      "text/plain": [
       "39.70611888041109"
      ]
     },
     "execution_count": 14,
     "metadata": {},
     "output_type": "execute_result"
    }
   ],
   "source": [
    "# Find max Rate\n",
    "max_band_ratio = 1\n",
    "distance_min = 100 #meter\n",
    "P_MAX_user =  P_UAV/NUM_User #0.5011872336272725 \n",
    "max_gain = gain_n(distance_min)\n",
    "max_sinr = ( P_MAX_user* max_gain) / (AWGN_W )\n",
    "max_rate = (max_band_ratio * bandwidth) * np.log2(1 + max_sinr)/1e6 # MHz\n",
    "max_rate"
   ]
  },
  {
   "cell_type": "code",
   "execution_count": 15,
   "metadata": {},
   "outputs": [],
   "source": [
    "# Calculate Energy consumption\n",
    "num_tslot = 24\n",
    "time_slots = np.arange(0, num_tslot)\n",
    "def calculate_com_energy(time_slot,p_tx, data_tx, data_rate):\n",
    "   \n",
    "    opt_time = data_tx / data_rate \n",
    "    \n",
    "    # energy_hov = (hover_power * max(opt_time))  # Watt-s\n",
    "    energy_com = (p_tx * opt_time)           # Watt-s\n",
    "    # print(data_tx, data_rate)\n",
    "    # print(\"energy_sum [watt/s]\",energy_com/3600) # convert to watt-hour\n",
    "    return energy_com ,0 #energy_hov"
   ]
  },
  {
   "cell_type": "code",
   "execution_count": 16,
   "metadata": {},
   "outputs": [
    {
     "data": {
      "text/plain": [
       "107"
      ]
     },
     "execution_count": 16,
     "metadata": {},
     "output_type": "execute_result"
    }
   ],
   "source": [
    "action_raw = np.array([-0.75872153, -0.52341117 ,-0.30280006 , 0.06692477  ,0.3536657 , -0.62184727\n",
    "  ,0.13012949 , 0.88997036, -0.13342942  ,0.07663916 , 0.88196602 , 0.43026105,\n",
    " -0.15862031 , 0.46067098 , 0.758543   ,-0.58921435 ,-0.19666775 , 0.99088893,\n",
    " -0.04939915 ,-0.82172018 ,-0.30306248 , 0.97151314 ,-0.59759432, -0.39876553,-0.75872153, -0.52341117 ,-0.30280006 , 0.06692477  ,0.3536657 , -0.62184727\n",
    "  ,0.13012949 , 0.88997036, -0.13342942  ,0.07663916 , 0.88196602 , 0.43026105,\n",
    " -0.15862031 , 0.46067098 , 0.758543   ,-0.58921435 ,-0.19666775 , 0.99088893,\n",
    " -0.04939915 ,-0.82172018 ,-0.30306248 , 0.97151314 ,-0.59759432, -0.39876553,-0.04939915 ,-0.82172018 ,-0.30306248 , 0.97151314 ,-0.59759432, -0.39876553,\n",
    "   -0.75872153, -0.52341117 ,-0.30280006 , 0.06692477  ,0.3536657 , -0.62184727\n",
    "  ,0.13012949 , 0.88997036, -0.13342942  ,0.07663916 , 0.88196602 , 0.43026105,\n",
    " -0.15862031 , 0.46067098 , 0.758543   ,-0.58921435 ,-0.19666775 , 0.99088893,\n",
    " -0.04939915 ,-0.82172018 ,-0.30306248 , 0.97151314 ,-0.59759432, -0.39876553,-0.75872153, -0.52341117 ,-0.30280006 , 0.06692477  ,0.3536657 , -0.62184727\n",
    "  ,0.13012949 , 0.88997036, -0.13342942  ,0.07663916 , 0.88196602 , 0.43026105,\n",
    " -0.15862031 , 0.46067098 , 0.758543   ,-0.58921435 ,-0.19666775 , 0.99088893,\n",
    " -0.04939915 ,-0.82172018 ,-0.30306248 , 0.97151314 ,-0.59759432, -0.39876553,-0.04939915 ,-0.82172018 ,-0.30306248 , 0.97151314 ,-0.59759432,])\n",
    "len(action_raw)"
   ]
  },
  {
   "cell_type": "code",
   "execution_count": 17,
   "metadata": {},
   "outputs": [],
   "source": [
    "# constrain power\n",
    "def control_power_allocation(powers, max_power):\n",
    "    \"\"\"Ensure power allocations don't exceed maximum power\"\"\"\n",
    "    total_power = np.sum(powers)\n",
    "    \n",
    "    if total_power > max_power:\n",
    "        # Scale all powers proportionally\n",
    "        scale_factor = max_power / total_power\n",
    "        return powers * scale_factor\n",
    "    \n",
    "    return powers"
   ]
  },
  {
   "cell_type": "code",
   "execution_count": 18,
   "metadata": {},
   "outputs": [
    {
     "data": {
      "text/plain": [
       "(-3.516330589650964, 3.504292668709663, 8.924283769656954)"
      ]
     },
     "execution_count": 18,
     "metadata": {},
     "output_type": "execute_result"
    }
   ],
   "source": [
    "# Scale UAV: Objective function \n",
    "request_rate = traffic_data\n",
    "def object_function_DQN(action):\n",
    "    \n",
    "    power_level =np.array([(action[i]) for i in range(NUM_User)])\n",
    "    power_alloc = control_power_allocation(power_level,P_UAV)\n",
    "    \n",
    "    uav_locations = np.array([(action[i]) for i in range(NUM_User, NUM_User + 2 * NUM_UAV)])\n",
    "    uav_positions = uav_locations.reshape(NUM_UAV, 2)  # Reshape into (NUM_UAV, 2) -> (x, y) pairs\n",
    "    end_index = min(NUM_User + 2 * NUM_UAV + NUM_User, len(action))\n",
    "\n",
    "    link_values = action[NUM_User + 2 * NUM_UAV : end_index]\n",
    "    link_uavs = {uav_idx: [] for uav_idx in range(NUM_UAV)}\n",
    "    link_bs = []\n",
    "    MAX_CONNECTIONS = 5\n",
    "    uav_connection_counts = {uav_idx: 0 for uav_idx in range(NUM_UAV)}\n",
    "    bs_connection_count = 0\n",
    "\n",
    "    # Process links with connection limit\n",
    "    for i, value in enumerate(link_values):\n",
    "        for uav_idx in range(NUM_UAV):\n",
    "            if uav_idx <= value < (uav_idx + 1):  \n",
    "                link_uavs[uav_idx].append(i)\n",
    "                break\n",
    "        \n",
    "        if value >= NUM_UAV:  # User connects to the base station\n",
    "            # Check if the base station has reached its connection limit\n",
    "            if bs_connection_count < MAX_CONNECTIONS:\n",
    "                link_bs.append(i)\n",
    "                bs_connection_count += 1\n",
    "            else:\n",
    "                # Base station is full, find the UAV with the lowest user count\n",
    "                min_users_uav = min(uav_connection_counts, key=uav_connection_counts.get)\n",
    "                link_uavs[min_users_uav].append(i)\n",
    "    # print(f\"link_bs:{link_bs}\")  \n",
    "    #         \n",
    "    powers = power_alloc\n",
    "    p_user_uavs = {uav_idx: powers[link_uavs[uav_idx]] for uav_idx in range(NUM_UAV)}\n",
    "    \n",
    "    link_lists = [link_uavs[i] for i in range(NUM_UAV)]\n",
    "    p_user_lists = [p_user_uavs[i][0:len(link_lists[i])] for i in range(NUM_UAV)]\n",
    "    p_user_bs = powers[link_bs]\n",
    "\n",
    "    for uav_id in range(NUM_UAV):\n",
    "        x_uav, y_uav = uav_positions[uav_id]\n",
    "        for j in range(NUM_User):\n",
    "            user_pos = User_position[j]\n",
    "            D_n_bs[uav_id][j] = distance(x1=x_uav, y1=y_uav, z1=UAV_Height, x2=user_pos[0], y2=user_pos[1], z2=user_pos[2])\n",
    "\n",
    "    for j in range(NUM_User):\n",
    "        user_pos = User_position[j]\n",
    "        D_n_bs[NUM_UAV][j] = distance(x1=GBS_location[0], y1=GBS_location[1], z1=GBS_location[2], x2=user_pos[0], y2=user_pos[1], z2=user_pos[2])\n",
    "\n",
    "    channel_gains = gain_n(D_n_bs)\n",
    "    \n",
    "    sinr_uavs = [noma_sinr(channel_gains, link_lists[i], p_user_lists[i], i) for i in range(NUM_UAV)]\n",
    "    sinr_bs = noma_sinr(channel_gains, link_bs, p_user_bs, NUM_UAV)\n",
    "    rate_mbps_uavs = [calculate_transmission_rate(np.array(sinr_uavs[i][0]), len(link_lists[i])) for i in range(NUM_UAV)]\n",
    "    rate_mbps_bs = calculate_transmission_rate(np.array(sinr_bs[0]), len(link_bs))\n",
    "    # sum_rate = sum([np.sum(rate) for rate in rate_mbps_uavs]) + np.sum(rate_mbps_bs)\n",
    "    requested_rates_uavs = [request_rate[sinr_uavs[i][1]] for i in range(NUM_UAV)]\n",
    "    energy_uavs = [calculate_com_energy(time_slots[0], p_user_lists[i], requested_rates_uavs[i], rate_mbps_uavs[i]) if link_lists[i] else ([0], [0]) for i in range(NUM_UAV)]\n",
    "    \n",
    "    energy_com_uavs = [energy_uavs[i][0] for i in range(NUM_UAV)]\n",
    "    energy_hov_uavs = [0 for _ in range(NUM_UAV)]\n",
    "    energy_mov_uavs = [0.00 for _ in range(NUM_UAV)]\n",
    "    \n",
    "    sum_energy_uavs = [energy_mov_uavs[i] + np.sum(energy_com_uavs[i]) + energy_hov_uavs[i] for i in range(NUM_UAV)]\n",
    "    sum_energy = sum(sum_energy_uavs)\n",
    "    check_minrate = [*rate_mbps_bs] + [rate for sublist in rate_mbps_uavs for rate in sublist]\n",
    "    UAV_energy = sum_energy_uavs\n",
    "\n",
    "    avg_rate = np.mean(check_minrate)\n",
    "    avg_energy = sum_energy / NUM_UAV\n",
    "    max_energy = P_MAX_user * 5\n",
    "    rate_normalize = avg_rate * (1 / int(max_rate))\n",
    "    energy_normalize = - (avg_energy / max_energy)\n",
    "    result_obj_normalize = (0.5*rate_normalize) +  (0.5*energy_normalize) #- penalty\n",
    "    return result_obj_normalize , avg_rate, avg_energy\n",
    "    \n",
    "object_function_DQN(action_raw)\n"
   ]
  },
  {
   "cell_type": "code",
   "execution_count": 19,
   "metadata": {},
   "outputs": [
    {
     "data": {
      "text/plain": [
       "0"
      ]
     },
     "execution_count": 19,
     "metadata": {},
     "output_type": "execute_result"
    }
   ],
   "source": [
    "np.random.randint(0, NUM_UAV + Num_GBS)"
   ]
  },
  {
   "cell_type": "code",
   "execution_count": 20,
   "metadata": {},
   "outputs": [],
   "source": [
    "# # ======================= Environment ============================\n",
    "\n",
    "class UAVEnv:\n",
    "    def __init__(self, action_space_size,\n",
    "                 initial_noise_std=0.2, noise_decay=0.995, min_noise_std=0.01):\n",
    "        self.P_MIN = P_MIN\n",
    "        self.P_MAX_user = P_MAX_user\n",
    "        self.NUM_User = NUM_User\n",
    "        self.NUM_UAV = NUM_UAV\n",
    "        self.Num_GBS = Num_GBS\n",
    "        self.action_space_size = action_space_size\n",
    "        self.state_dim = (self.Num_GBS + self.NUM_UAV) * self.NUM_User + self.NUM_User\n",
    "\n",
    "        # Noise scheduling\n",
    "        self.noise_std = initial_noise_std\n",
    "        self.initial_noise_std = initial_noise_std\n",
    "        self.noise_decay = noise_decay\n",
    "        self.min_noise_std = min_noise_std\n",
    "\n",
    "        self.reset()\n",
    "\n",
    "    def reset(self):\n",
    "        self.state = np.array(np.vstack([gain_n(D_n_bs), request_rate]).flatten())\n",
    "        return self.state\n",
    "\n",
    "    def step(self, action_idx):\n",
    "        action = self.decode_action(action_idx, add_noise=True)\n",
    "        reward, avg_rate, avg_energy = object_function_DQN(action)\n",
    "        next_state = np.array(np.vstack([gain_n(D_n_bs), request_rate]).flatten())\n",
    "        done = False\n",
    "        return next_state, reward, done, {\"avg_rate\": avg_rate, \"avg_energy\": avg_energy}\n",
    "\n",
    "    def decode_action(self, action_idx, add_noise=False):\n",
    "        action = np.zeros(self.NUM_User + 2 * self.NUM_UAV + self.NUM_User)\n",
    "\n",
    "        # Reproducible deterministic lookup (custom hash from action_idx)\n",
    "        rng = np.random.RandomState(action_idx)  # to ensure deterministic, same idx will return same action anytime\n",
    "\n",
    "        # User transmit powers\n",
    "        power_options = np.linspace(self.P_MIN, self.P_MAX_user, 500)\n",
    "        for i in range(self.NUM_User):\n",
    "            action[i] = power_options[rng.randint(len(power_options))]\n",
    "\n",
    "        # UAV positions\n",
    "        axis_options = np.linspace(-1000, 1000, 50000)\n",
    "        for i in range(self.NUM_UAV):\n",
    "            action[self.NUM_User + 2 * i] = axis_options[rng.randint(len(axis_options))]   # x\n",
    "            action[self.NUM_User + 2 * i + 1] = axis_options[rng.randint(len(axis_options))]  # y\n",
    "\n",
    "        # User association\n",
    "        for i in range(self.NUM_User):\n",
    "            action[self.NUM_User + 2 * self.NUM_UAV + i] = rng.randint(0, self.NUM_UAV + Num_GBS)  # {0,...,NUM_UAV}\n",
    "\n",
    "        # # Add Gaussian noise (only to continuous parts: power and position)\n",
    "        # if add_noise:\n",
    "        #     noise_power = np.random.normal(0, self.noise_std, size=self.NUM_User)\n",
    "        #     noise_position = np.random.normal(0, self.noise_std * 500, size=2 * self.NUM_UAV)\n",
    "\n",
    "        #     # Apply and clip noise\n",
    "        #     action[:self.NUM_User] += noise_power\n",
    "        #     action[:self.NUM_User] = np.clip(action[:self.NUM_User], self.P_MIN, self.P_MAX_user)\n",
    "\n",
    "        #     pos_start = self.NUM_User\n",
    "        #     pos_end = self.NUM_User + 2 * self.NUM_UAV\n",
    "        #     action[pos_start:pos_end] += noise_position\n",
    "        #     action[pos_start:pos_end] = np.clip(action[pos_start:pos_end], -1000, 1000)\n",
    "\n",
    "        return action\n",
    "\n",
    "    def decay_noise(self):\n",
    "        self.noise_std = max(self.noise_std * self.noise_decay, self.min_noise_std)\n"
   ]
  },
  {
   "cell_type": "code",
   "execution_count": 22,
   "metadata": {},
   "outputs": [
    {
     "name": "stdout",
     "output_type": "stream",
     "text": [
      "Episode 0, Total_Reward: -64.37, Reward: -0.90, AVG_RATE:4.77,AVG_ENERGY:2.403568,Epsilon: 0.90\n",
      "Episode 10, Total_Reward: -59.19, Reward: -0.74, AVG_RATE:4.68,AVG_ENERGY:2.007832,Epsilon: 0.85\n",
      "Episode 20, Total_Reward: -61.59, Reward: -1.28, AVG_RATE:4.80,AVG_ENERGY:3.353807,Epsilon: 0.81\n",
      "Episode 30, Total_Reward: -59.36, Reward: -1.12, AVG_RATE:4.79,AVG_ENERGY:2.965167,Epsilon: 0.77\n",
      "Episode 40, Total_Reward: -54.84, Reward: -1.16, AVG_RATE:4.87,AVG_ENERGY:3.065037,Epsilon: 0.73\n",
      "Episode 50, Total_Reward: -57.94, Reward: -0.74, AVG_RATE:4.68,AVG_ENERGY:2.007832,Epsilon: 0.70\n",
      "Episode 60, Total_Reward: -52.35, Reward: -1.26, AVG_RATE:4.91,AVG_ENERGY:3.312283,Epsilon: 0.66\n",
      "Episode 70, Total_Reward: -54.76, Reward: -0.74, AVG_RATE:4.68,AVG_ENERGY:2.007832,Epsilon: 0.63\n",
      "Episode 80, Total_Reward: -54.65, Reward: -0.74, AVG_RATE:4.68,AVG_ENERGY:2.007832,Epsilon: 0.60\n",
      "Episode 90, Total_Reward: -50.78, Reward: -1.18, AVG_RATE:4.77,AVG_ENERGY:3.102930,Epsilon: 0.57\n",
      "Episode 100, Total_Reward: -56.64, Reward: -1.10, AVG_RATE:4.74,AVG_ENERGY:2.905986,Epsilon: 0.54\n",
      "Episode 110, Total_Reward: -48.80, Reward: -1.16, AVG_RATE:4.87,AVG_ENERGY:3.065037,Epsilon: 0.52\n",
      "Episode 120, Total_Reward: -49.90, Reward: -0.74, AVG_RATE:4.68,AVG_ENERGY:2.007832,Epsilon: 0.49\n",
      "Episode 130, Total_Reward: -50.20, Reward: -1.62, AVG_RATE:4.86,AVG_ENERGY:4.206541,Epsilon: 0.47\n",
      "Episode 140, Total_Reward: -45.82, Reward: -1.13, AVG_RATE:4.93,AVG_ENERGY:2.988513,Epsilon: 0.44\n",
      "Episode 150, Total_Reward: -49.29, Reward: -1.03, AVG_RATE:4.95,AVG_ENERGY:2.745260,Epsilon: 0.42\n",
      "Episode 160, Total_Reward: -51.70, Reward: -0.74, AVG_RATE:4.68,AVG_ENERGY:2.007832,Epsilon: 0.40\n",
      "Episode 170, Total_Reward: -45.82, Reward: -0.74, AVG_RATE:4.68,AVG_ENERGY:2.007832,Epsilon: 0.38\n",
      "Episode 180, Total_Reward: -50.91, Reward: -1.13, AVG_RATE:4.88,AVG_ENERGY:2.994566,Epsilon: 0.36\n",
      "Episode 190, Total_Reward: -48.58, Reward: -0.74, AVG_RATE:4.68,AVG_ENERGY:2.007832,Epsilon: 0.35\n",
      "Episode 200, Total_Reward: -49.88, Reward: -0.74, AVG_RATE:4.68,AVG_ENERGY:2.007832,Epsilon: 0.33\n",
      "Episode 210, Total_Reward: -45.37, Reward: -0.74, AVG_RATE:4.68,AVG_ENERGY:2.007832,Epsilon: 0.31\n",
      "Episode 220, Total_Reward: -46.04, Reward: -0.74, AVG_RATE:4.68,AVG_ENERGY:2.007832,Epsilon: 0.30\n",
      "Episode 230, Total_Reward: -42.83, Reward: -0.74, AVG_RATE:4.68,AVG_ENERGY:2.007832,Epsilon: 0.28\n",
      "Episode 240, Total_Reward: -45.87, Reward: -0.74, AVG_RATE:4.68,AVG_ENERGY:2.007832,Epsilon: 0.27\n",
      "Episode 250, Total_Reward: -41.64, Reward: -0.74, AVG_RATE:4.68,AVG_ENERGY:2.007832,Epsilon: 0.26\n",
      "Episode 260, Total_Reward: -44.06, Reward: -0.74, AVG_RATE:4.68,AVG_ENERGY:2.007832,Epsilon: 0.24\n",
      "Episode 270, Total_Reward: -43.64, Reward: -0.74, AVG_RATE:4.68,AVG_ENERGY:2.007832,Epsilon: 0.23\n",
      "Episode 280, Total_Reward: -43.16, Reward: -0.74, AVG_RATE:4.68,AVG_ENERGY:2.007832,Epsilon: 0.22\n",
      "Episode 290, Total_Reward: -42.31, Reward: -0.74, AVG_RATE:4.68,AVG_ENERGY:2.007832,Epsilon: 0.21\n",
      "Episode 300, Total_Reward: -43.82, Reward: -1.13, AVG_RATE:4.93,AVG_ENERGY:2.988513,Epsilon: 0.20\n",
      "Episode 310, Total_Reward: -43.14, Reward: -0.74, AVG_RATE:4.68,AVG_ENERGY:2.007832,Epsilon: 0.19\n",
      "Episode 320, Total_Reward: -42.95, Reward: -0.74, AVG_RATE:4.68,AVG_ENERGY:2.007832,Epsilon: 0.18\n",
      "Episode 330, Total_Reward: -42.33, Reward: -0.74, AVG_RATE:4.68,AVG_ENERGY:2.007832,Epsilon: 0.17\n",
      "Episode 340, Total_Reward: -39.10, Reward: -0.74, AVG_RATE:4.68,AVG_ENERGY:2.007832,Epsilon: 0.16\n",
      "Episode 350, Total_Reward: -40.61, Reward: -0.74, AVG_RATE:4.68,AVG_ENERGY:2.007832,Epsilon: 0.15\n",
      "Episode 360, Total_Reward: -41.86, Reward: -0.74, AVG_RATE:4.68,AVG_ENERGY:2.007832,Epsilon: 0.15\n",
      "Episode 370, Total_Reward: -43.12, Reward: -0.74, AVG_RATE:4.68,AVG_ENERGY:2.007832,Epsilon: 0.14\n",
      "Episode 380, Total_Reward: -39.06, Reward: -0.74, AVG_RATE:4.68,AVG_ENERGY:2.007832,Epsilon: 0.13\n",
      "Episode 390, Total_Reward: -43.49, Reward: -0.74, AVG_RATE:4.68,AVG_ENERGY:2.007832,Epsilon: 0.13\n",
      "Episode 400, Total_Reward: -41.59, Reward: -0.74, AVG_RATE:4.68,AVG_ENERGY:2.007832,Epsilon: 0.12\n",
      "Episode 410, Total_Reward: -41.18, Reward: -0.74, AVG_RATE:4.68,AVG_ENERGY:2.007832,Epsilon: 0.11\n",
      "Episode 420, Total_Reward: -39.27, Reward: -0.74, AVG_RATE:4.68,AVG_ENERGY:2.007832,Epsilon: 0.11\n",
      "Episode 430, Total_Reward: -37.64, Reward: -0.74, AVG_RATE:4.68,AVG_ENERGY:2.007832,Epsilon: 0.10\n",
      "Episode 440, Total_Reward: -37.50, Reward: -0.74, AVG_RATE:4.68,AVG_ENERGY:2.007832,Epsilon: 0.10\n",
      "Episode 450, Total_Reward: -37.83, Reward: -0.74, AVG_RATE:4.68,AVG_ENERGY:2.007832,Epsilon: 0.09\n",
      "Episode 460, Total_Reward: -40.01, Reward: -0.74, AVG_RATE:4.68,AVG_ENERGY:2.007832,Epsilon: 0.09\n",
      "Episode 470, Total_Reward: -38.95, Reward: -0.74, AVG_RATE:4.68,AVG_ENERGY:2.007832,Epsilon: 0.08\n",
      "Episode 480, Total_Reward: -39.50, Reward: -1.96, AVG_RATE:4.77,AVG_ENERGY:5.072263,Epsilon: 0.08\n",
      "Episode 490, Total_Reward: -37.53, Reward: -0.74, AVG_RATE:4.68,AVG_ENERGY:2.007832,Epsilon: 0.08\n",
      "Episode 500, Total_Reward: -38.30, Reward: -0.74, AVG_RATE:4.68,AVG_ENERGY:2.007832,Epsilon: 0.07\n",
      "Episode 510, Total_Reward: -39.31, Reward: -0.74, AVG_RATE:4.68,AVG_ENERGY:2.007832,Epsilon: 0.07\n",
      "Episode 520, Total_Reward: -38.43, Reward: -0.74, AVG_RATE:4.68,AVG_ENERGY:2.007832,Epsilon: 0.07\n",
      "Episode 530, Total_Reward: -38.55, Reward: -0.74, AVG_RATE:4.68,AVG_ENERGY:2.007832,Epsilon: 0.06\n",
      "Episode 540, Total_Reward: -37.83, Reward: -0.74, AVG_RATE:4.68,AVG_ENERGY:2.007832,Epsilon: 0.06\n",
      "Episode 550, Total_Reward: -38.66, Reward: -0.74, AVG_RATE:4.68,AVG_ENERGY:2.007832,Epsilon: 0.06\n",
      "Episode 560, Total_Reward: -39.86, Reward: -0.74, AVG_RATE:4.68,AVG_ENERGY:2.007832,Epsilon: 0.05\n",
      "Episode 570, Total_Reward: -39.67, Reward: -0.74, AVG_RATE:4.68,AVG_ENERGY:2.007832,Epsilon: 0.05\n",
      "Episode 580, Total_Reward: -38.81, Reward: -0.74, AVG_RATE:4.68,AVG_ENERGY:2.007832,Epsilon: 0.05\n",
      "Episode 590, Total_Reward: -40.29, Reward: -0.74, AVG_RATE:4.68,AVG_ENERGY:2.007832,Epsilon: 0.05\n",
      "Episode 600, Total_Reward: -37.97, Reward: -0.74, AVG_RATE:4.68,AVG_ENERGY:2.007832,Epsilon: 0.04\n",
      "Episode 610, Total_Reward: -39.37, Reward: -0.74, AVG_RATE:4.68,AVG_ENERGY:2.007832,Epsilon: 0.04\n",
      "Episode 620, Total_Reward: -38.66, Reward: -0.74, AVG_RATE:4.68,AVG_ENERGY:2.007832,Epsilon: 0.04\n",
      "Episode 630, Total_Reward: -40.72, Reward: -0.74, AVG_RATE:4.68,AVG_ENERGY:2.007832,Epsilon: 0.04\n",
      "Episode 640, Total_Reward: -38.52, Reward: -0.74, AVG_RATE:4.68,AVG_ENERGY:2.007832,Epsilon: 0.04\n",
      "Episode 650, Total_Reward: -37.53, Reward: -0.74, AVG_RATE:4.68,AVG_ENERGY:2.007832,Epsilon: 0.03\n",
      "Episode 660, Total_Reward: -37.06, Reward: -0.74, AVG_RATE:4.68,AVG_ENERGY:2.007832,Epsilon: 0.03\n",
      "Episode 670, Total_Reward: -38.79, Reward: -0.74, AVG_RATE:4.68,AVG_ENERGY:2.007832,Epsilon: 0.03\n",
      "Episode 680, Total_Reward: -37.72, Reward: -0.74, AVG_RATE:4.68,AVG_ENERGY:2.007832,Epsilon: 0.03\n",
      "Episode 690, Total_Reward: -38.64, Reward: -0.74, AVG_RATE:4.68,AVG_ENERGY:2.007832,Epsilon: 0.03\n",
      "Episode 700, Total_Reward: -37.58, Reward: -0.74, AVG_RATE:4.68,AVG_ENERGY:2.007832,Epsilon: 0.03\n",
      "Episode 710, Total_Reward: -38.62, Reward: -0.74, AVG_RATE:4.68,AVG_ENERGY:2.007832,Epsilon: 0.03\n",
      "Episode 720, Total_Reward: -37.73, Reward: -0.74, AVG_RATE:4.68,AVG_ENERGY:2.007832,Epsilon: 0.02\n",
      "Episode 730, Total_Reward: -37.06, Reward: -0.74, AVG_RATE:4.68,AVG_ENERGY:2.007832,Epsilon: 0.02\n",
      "Episode 740, Total_Reward: -38.53, Reward: -0.74, AVG_RATE:4.68,AVG_ENERGY:2.007832,Epsilon: 0.02\n",
      "Episode 750, Total_Reward: -37.13, Reward: -0.74, AVG_RATE:4.68,AVG_ENERGY:2.007832,Epsilon: 0.02\n",
      "Episode 760, Total_Reward: -37.58, Reward: -0.74, AVG_RATE:4.68,AVG_ENERGY:2.007832,Epsilon: 0.02\n",
      "Episode 770, Total_Reward: -37.45, Reward: -0.74, AVG_RATE:4.68,AVG_ENERGY:2.007832,Epsilon: 0.02\n",
      "Episode 780, Total_Reward: -38.32, Reward: -0.74, AVG_RATE:4.68,AVG_ENERGY:2.007832,Epsilon: 0.02\n",
      "Episode 790, Total_Reward: -37.97, Reward: -0.74, AVG_RATE:4.68,AVG_ENERGY:2.007832,Epsilon: 0.02\n",
      "Episode 800, Total_Reward: -37.06, Reward: -0.74, AVG_RATE:4.68,AVG_ENERGY:2.007832,Epsilon: 0.02\n",
      "Episode 810, Total_Reward: -37.06, Reward: -0.74, AVG_RATE:4.68,AVG_ENERGY:2.007832,Epsilon: 0.02\n",
      "Episode 820, Total_Reward: -37.60, Reward: -0.74, AVG_RATE:4.68,AVG_ENERGY:2.007832,Epsilon: 0.01\n",
      "Episode 830, Total_Reward: -38.79, Reward: -2.47, AVG_RATE:4.86,AVG_ENERGY:6.348325,Epsilon: 0.01\n",
      "Episode 840, Total_Reward: -37.06, Reward: -0.74, AVG_RATE:4.68,AVG_ENERGY:2.007832,Epsilon: 0.01\n",
      "Episode 850, Total_Reward: -37.06, Reward: -0.74, AVG_RATE:4.68,AVG_ENERGY:2.007832,Epsilon: 0.01\n",
      "Episode 860, Total_Reward: -37.76, Reward: -0.74, AVG_RATE:4.68,AVG_ENERGY:2.007832,Epsilon: 0.01\n",
      "Episode 870, Total_Reward: -37.06, Reward: -0.74, AVG_RATE:4.68,AVG_ENERGY:2.007832,Epsilon: 0.01\n",
      "Episode 880, Total_Reward: -37.80, Reward: -0.81, AVG_RATE:4.76,AVG_ENERGY:2.185271,Epsilon: 0.01\n",
      "Episode 890, Total_Reward: -37.60, Reward: -0.74, AVG_RATE:4.68,AVG_ENERGY:2.007832,Epsilon: 0.01\n",
      "Episode 900, Total_Reward: -37.06, Reward: -0.74, AVG_RATE:4.68,AVG_ENERGY:2.007832,Epsilon: 0.01\n",
      "Episode 910, Total_Reward: -37.50, Reward: -0.74, AVG_RATE:4.68,AVG_ENERGY:2.007832,Epsilon: 0.01\n",
      "Episode 920, Total_Reward: -37.06, Reward: -0.74, AVG_RATE:4.68,AVG_ENERGY:2.007832,Epsilon: 0.01\n",
      "Episode 930, Total_Reward: -37.06, Reward: -0.74, AVG_RATE:4.68,AVG_ENERGY:2.007832,Epsilon: 0.01\n",
      "Episode 940, Total_Reward: -37.06, Reward: -0.74, AVG_RATE:4.68,AVG_ENERGY:2.007832,Epsilon: 0.01\n",
      "Episode 950, Total_Reward: -37.88, Reward: -0.74, AVG_RATE:4.68,AVG_ENERGY:2.007832,Epsilon: 0.01\n",
      "Episode 960, Total_Reward: -37.06, Reward: -0.74, AVG_RATE:4.68,AVG_ENERGY:2.007832,Epsilon: 0.01\n",
      "Episode 970, Total_Reward: -37.06, Reward: -0.74, AVG_RATE:4.68,AVG_ENERGY:2.007832,Epsilon: 0.01\n",
      "Episode 980, Total_Reward: -37.76, Reward: -0.74, AVG_RATE:4.68,AVG_ENERGY:2.007832,Epsilon: 0.01\n",
      "Episode 990, Total_Reward: -37.06, Reward: -0.74, AVG_RATE:4.68,AVG_ENERGY:2.007832,Epsilon: 0.01\n"
     ]
    }
   ],
   "source": [
    "\n",
    "# ======================= Training Loop ============================\n",
    "def train():\n",
    "    env = UAVEnv(action_space_size = 2 * NUM_User + 2 * NUM_UAV)  # dummy size\n",
    "    state_dim = env.state_dim\n",
    "    action_dim = env.action_space_size\n",
    "    epsilon = 0.9           # initial exploration rate\n",
    "    epsilon_min = 0.01      # final exploration rate\n",
    "    epsilon_decay = 0.995   # decay per episode\n",
    "\n",
    "    agent = Agent(state_dim, action_dim, seed=1234)\n",
    "    n_episode = 1000\n",
    "    EP_REWARD = []\n",
    "    EP_RATE = []\n",
    "    EP_ENERGY = []\n",
    "    for episode in range(n_episode):\n",
    "        state = env.reset()\n",
    "        total_reward = 0\n",
    "        \n",
    "        T_RATE = []\n",
    "        T_ENERGY = []\n",
    "        T_REWARD = []\n",
    "        for t in range(50):\n",
    "            action = agent.act(state, eps=epsilon)\n",
    "            next_state, reward, done, info = env.step(action)\n",
    "            agent.step(state, action, reward, next_state, done)\n",
    "            # Store experience\n",
    "            # agent.memory.add(state, action, reward, next_state, done)\n",
    "\n",
    "            state = next_state\n",
    "            total_reward += reward\n",
    "            if done:\n",
    "                    break\n",
    "            T_REWARD.append(np.mean(reward))\n",
    "            T_RATE.append(np.mean(info[\"avg_rate\"]))\n",
    "            T_ENERGY.append(np.mean(info[\"avg_energy\"]))\n",
    "        EP_REWARD.append(np.mean(T_REWARD))\n",
    "        EP_RATE.append(np.mean(T_RATE))\n",
    "        EP_ENERGY.append(np.mean(T_ENERGY))\n",
    "        \n",
    "        # Decay epsilon after each episode\n",
    "        epsilon = max(epsilon_min, epsilon_decay * epsilon)\n",
    "        if episode % 10 == 0:\n",
    "            print(f\"Episode {episode}, Total_Reward: {total_reward:.2f}, Reward: {reward:.2f}, AVG_RATE:{info['avg_rate']:.2f},AVG_ENERGY:{info['avg_energy']:2f},Epsilon: {epsilon:.2f}\")\n",
    "    return EP_REWARD, EP_RATE, EP_ENERGY\n",
    "if __name__ == \"__main__\":\n",
    "    EP_REWARD, EP_RATE, EP_ENERGY = train()"
   ]
  },
  {
   "cell_type": "code",
   "execution_count": 24,
   "metadata": {},
   "outputs": [
    {
     "data": {
      "image/png": "[encoded data removed]",
      "text/plain": [
       "<Figure size 640x480 with 1 Axes>"
      ]
     },
     "metadata": {},
     "output_type": "display_data"
    }
   ],
   "source": [
    "fig = plt.figure()\n",
    "ax = fig.add_subplot(111)\n",
    "plt.plot(np.arange(1, len(EP_REWARD)+1), EP_REWARD)\n",
    "plt.ylabel('Reward')\n",
    "plt.xlabel('Episode #')\n",
    "plt.show()"
   ]
  },
  {
   "cell_type": "code",
   "execution_count": 26,
   "metadata": {},
   "outputs": [
    {
     "data": {
      "image/png": "[encoded data removed]",
      "text/plain": [
       "<Figure size 640x480 with 1 Axes>"
      ]
     },
     "metadata": {},
     "output_type": "display_data"
    }
   ],
   "source": [
    "fig = plt.figure()\n",
    "ax = fig.add_subplot(111)\n",
    "plt.plot(np.arange(1, len(EP_RATE)+1), EP_RATE)\n",
    "plt.ylabel('RATE')\n",
    "plt.xlabel('Episode #')\n",
    "plt.show()"
   ]
  },
  {
   "cell_type": "code",
   "execution_count": 27,
   "metadata": {},
   "outputs": [
    {
     "data": {
      "image/png": "[encoded data removed]",
      "text/plain": [
       "<Figure size 640x480 with 1 Axes>"
      ]
     },
     "metadata": {},
     "output_type": "display_data"
    }
   ],
   "source": [
    "fig = plt.figure()\n",
    "ax = fig.add_subplot(111)\n",
    "plt.plot(np.arange(1, len(EP_ENERGY)+1), EP_ENERGY)\n",
    "plt.ylabel('ENERGY')\n",
    "plt.xlabel('Episode #')\n",
    "plt.show()"
   ]
  }
 ],
 "metadata": {
  "kernelspec": {
   "display_name": "python3_7",
   "language": "python",
   "name": "python3"
  },
  "language_info": {
   "codemirror_mode": {
    "name": "ipython",
    "version": 3
   },
   "file_extension": ".py",
   "mimetype": "text/x-python",
   "name": "python",
   "nbconvert_exporter": "python",
   "pygments_lexer": "ipython3",
   "version": "3.7.12"
  }
 },
 "nbformat": 4,
 "nbformat_minor": 2
}
